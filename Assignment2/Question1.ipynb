{
 "cells": [
  {
   "cell_type": "code",
   "execution_count": 2,
   "metadata": {},
   "outputs": [],
   "source": [
    "#question 1 \n",
    "# Anirudh Sathish \n",
    "# CS20B1125"
   ]
  },
  {
   "cell_type": "markdown",
   "metadata": {},
   "source": [
    "1. Find and plot the decision boundary between class ω1 and ω2. Assume P(ω1) = P(ω2).\n",
    "ω1 = [1,6; 3,4; 3,8; 5,6]\n",
    "ω2 = [3,0; 1,-2;3,-4;5,-2]"
   ]
  },
  {
   "cell_type": "code",
   "execution_count": 3,
   "metadata": {},
   "outputs": [],
   "source": [
    "# importing some neccesary libraries \n",
    "import numpy as np\n",
    "import cv2\n",
    "import matplotlib.pyplot as plt \n",
    "from sympy import solve "
   ]
  },
  {
   "cell_type": "code",
   "execution_count": 4,
   "metadata": {},
   "outputs": [],
   "source": [
    "# lets represent class w1\n",
    "l1 = [[1,6],[3,4] ,[3,8],[ 5,6]]\n",
    "w1 = np.array(l1)\n",
    "\n",
    "# simmilarly class w2\n",
    "l2 = [[3,0], [1,-2], [3,-4], [5,-2]]\n",
    "w2 = np.array(l2)\n"
   ]
  },
  {
   "cell_type": "code",
   "execution_count": 5,
   "metadata": {},
   "outputs": [],
   "source": [
    "# find covariance matrix of each of the classes \n",
    "\n",
    "cov_w1 = np.cov(w1.T)\n",
    "cov_w2 = np.cov(w2.T)\n",
    "\n"
   ]
  },
  {
   "cell_type": "code",
   "execution_count": 6,
   "metadata": {},
   "outputs": [
    {
     "name": "stdout",
     "output_type": "stream",
     "text": [
      "Cov1 :\n",
      "\n",
      "[[2.66666667 0.        ]\n",
      " [0.         2.66666667]]\n",
      "\n",
      "Cov2 :\n",
      "\n",
      "[[2.66666667 0.        ]\n",
      " [0.         2.66666667]]\n"
     ]
    }
   ],
   "source": [
    "# let us look at the covariance matrices to look at what case they satisfy \n",
    "print(\"Cov1 :\\n\")\n",
    "print(cov_w1)\n",
    "print(\"\\nCov2 :\\n\")\n",
    "print(cov_w2)"
   ]
  },
  {
   "cell_type": "markdown",
   "metadata": {},
   "source": [
    "Since both the covarinance matrices are equal , this is case 1 "
   ]
  },
  {
   "cell_type": "code",
   "execution_count": 7,
   "metadata": {},
   "outputs": [
    {
     "name": "stdout",
     "output_type": "stream",
     "text": [
      "[3. 6.] [ 3. -2.]\n"
     ]
    }
   ],
   "source": [
    "# let us find the mean \n",
    "mean_w1 = np.mean(w1,axis = 0 )\n",
    "mean_w2 = np.mean(w2 , axis = 0 )\n",
    "print(mean_w1,mean_w2)"
   ]
  },
  {
   "cell_type": "markdown",
   "metadata": {},
   "source": [
    "Now let us substitute the required formula "
   ]
  },
  {
   "cell_type": "code",
   "execution_count": 8,
   "metadata": {},
   "outputs": [
    {
     "name": "stdout",
     "output_type": "stream",
     "text": [
      "2.67\n"
     ]
    }
   ],
   "source": [
    "# Let us obtain the value of sigma**2\n",
    "\n",
    "# let us find dimension of covariance matrice \n",
    "dim = cov_w1.shape[0]\n",
    "value = np.linalg.det(cov_w1)\n",
    "sigma_square = (((value)**(1/dim)))\n",
    "\n",
    "# let us round it to decimals \n",
    "sigma_square = np.round(sigma_square,2)\n",
    "print(sigma_square)"
   ]
  },
  {
   "cell_type": "code",
   "execution_count": 9,
   "metadata": {},
   "outputs": [
    {
     "name": "stdout",
     "output_type": "stream",
     "text": [
      "[[x]\n",
      " [y]]\n"
     ]
    }
   ],
   "source": [
    "# for calculating decision boundary \n",
    "from sympy import symbols , expand , Poly\n",
    "\n",
    "x , y = symbols('x , y')\n",
    "X = np.array([[x],[y]])\n",
    "print(X)\n"
   ]
  },
  {
   "cell_type": "code",
   "execution_count": 10,
   "metadata": {},
   "outputs": [
    {
     "name": "stdout",
     "output_type": "stream",
     "text": [
      "[1.12*x + 2.25*y - 8.43]\n",
      "Poly(1.12*x + 2.25*y - 8.43, x, y, domain='RR')\n"
     ]
    }
   ],
   "source": [
    "# now the formula -> g(x) = W_i.T*X+ W_i0\n",
    "\n",
    "# for class w1 \n",
    "W_w1 = np.round(mean_w1/(sigma_square),2)\n",
    "\n",
    "#W0 term \n",
    "W0_w1 = np.round((((mean_w1.T) @ mean_w1)*-1)/(2*sigma_square),2)\n",
    "\n",
    "# decision boundaring g(x) for class w1 \n",
    "g_w1 = W_w1 @ X + W0_w1\n",
    "poly_boundary_class_w1_part1  = Poly(g_w1[0])\n",
    "print(g_w1)\n",
    "print(poly_boundary_class_w1_part1)"
   ]
  },
  {
   "cell_type": "code",
   "execution_count": 11,
   "metadata": {},
   "outputs": [
    {
     "name": "stdout",
     "output_type": "stream",
     "text": [
      "[1.12*x - 0.75*y - 2.43]\n",
      "Poly(1.12*x - 0.75*y - 2.43, x, y, domain='RR')\n"
     ]
    }
   ],
   "source": [
    "# now the formula -> g(x) = W_i.T*X+ W_i0\n",
    "\n",
    "# for class w2 \n",
    "W_w2 = np.round(mean_w2/(sigma_square),2)\n",
    "\n",
    "#W0 term \n",
    "W0_w2 = np.round((((mean_w2.T) @ mean_w2)*-1)/(2*sigma_square),2)\n",
    "\n",
    "# decision boundaring g(x) for class w2 \n",
    "g_w2 = W_w2 @ X + W0_w2\n",
    "poly_boundary_class_w2_part1  = Poly(g_w2[0])\n",
    "print(g_w2)\n",
    "print(poly_boundary_class_w2_part1)"
   ]
  },
  {
   "cell_type": "code",
   "execution_count": 12,
   "metadata": {},
   "outputs": [
    {
     "name": "stdout",
     "output_type": "stream",
     "text": [
      "g(x):  3.0*y - 6.0 \n",
      "\n",
      "{y: 2.00000000000000}\n"
     ]
    }
   ],
   "source": [
    "gx = g_w1 - g_w2\n",
    "sol = solve(gx,y)\n",
    "print(\"g(x): \",gx[0],\"\\n\")\n",
    "print(sol)"
   ]
  },
  {
   "cell_type": "code",
   "execution_count": 15,
   "metadata": {},
   "outputs": [
    {
     "data": {
      "image/png": "[encoded data removed]",
      "text/plain": [
       "<Figure size 640x480 with 1 Axes>"
      ]
     },
     "metadata": {},
     "output_type": "display_data"
    }
   ],
   "source": [
    "x_temp = np.linspace(0,6,100)\n",
    "y_temp = 2 + 0*x_temp\n",
    "\n",
    "plt.plot(x_temp,y_temp)\n",
    "plt.scatter(w1[:,0],w1[:,1],color = 'red' , marker = '*')\n",
    "plt.scatter(w2[:,0],w2[:,1],color = 'blue', marker = '.')\n",
    "\n",
    "plt.xlabel(\"x\")\n",
    "plt.ylabel(\"y\")\n",
    "title = \"Decision boundary between class w1 and w2 . w1 : Red , w2 : Blue\"\n",
    "plt.suptitle(title)\n",
    "plt.title('Decision Boundary  ')\n",
    "plt.show()"
   ]
  },
  {
   "cell_type": "code",
   "execution_count": null,
   "metadata": {},
   "outputs": [],
   "source": []
  }
 ],
 "metadata": {
  "kernelspec": {
   "display_name": "Python 3.8.10 64-bit",
   "language": "python",
   "name": "python3"
  },
  "language_info": {
   "codemirror_mode": {
    "name": "ipython",
    "version": 3
   },
   "file_extension": ".py",
   "mimetype": "text/x-python",
   "name": "python",
   "nbconvert_exporter": "python",
   "pygments_lexer": "ipython3",
   "version": "3.8.10"
  },
  "orig_nbformat": 4,
  "vscode": {
   "interpreter": {
    "hash": "916dbcbb3f70747c44a77c7bcd40155683ae19c65e1c03b4aa3499c5328201f1"
   }
  }
 },
 "nbformat": 4,
 "nbformat_minor": 2
}
