{
 "cells": [
  {
   "cell_type": "code",
   "execution_count": 43,
   "metadata": {},
   "outputs": [
    {
     "data": {
      "text/plain": [
       "' \\n    Anirudh Sathish , CS20B1125 \\n    Question No 4 \\n'"
      ]
     },
     "execution_count": 43,
     "metadata": {},
     "output_type": "execute_result"
    }
   ],
   "source": [
    "\"\"\" \n",
    "    Anirudh Sathish , CS20B1125 \n",
    "    Question No 4 \n",
    "\"\"\""
   ]
  },
  {
   "cell_type": "markdown",
   "metadata": {},
   "source": [
    "### Question : \n",
    "Implement Bayes Classifier for Iris Dataset.\n",
    "#### Dataset Specifications:\n",
    "- Total number of samples = 150\n",
    "- Number of classes = 3 (Iris setosa, Iris virginica, and Iris versicolor)\n",
    "- Number of samples in each class = 50\n",
    "#### Use the following information to design classifier:\n",
    "- Number of training feature vectors ( first 40 in each class) = 40\n",
    "- Number of test feature vectors ( remaining 10 in each class) = 10\n",
    "- Number of dimensions = 4\n",
    "- Feature vector = <sepal length, sepal width, petal length, petal width>"
   ]
  },
  {
   "cell_type": "markdown",
   "metadata": {},
   "source": [
    "### Approach \n",
    "1. Find apriori probability \n",
    "2. Find class conditional probability "
   ]
  },
  {
   "cell_type": "code",
   "execution_count": 44,
   "metadata": {},
   "outputs": [],
   "source": [
    "# libraries \n",
    "import numpy as np \n",
    "import pandas as pd"
   ]
  },
  {
   "cell_type": "code",
   "execution_count": 45,
   "metadata": {},
   "outputs": [
    {
     "data": {
      "text/html": [
       "<div>\n",
       "<style scoped>\n",
       "    .dataframe tbody tr th:only-of-type {\n",
       "        vertical-align: middle;\n",
       "    }\n",
       "\n",
       "    .dataframe tbody tr th {\n",
       "        vertical-align: top;\n",
       "    }\n",
       "\n",
       "    .dataframe thead th {\n",
       "        text-align: right;\n",
       "    }\n",
       "</style>\n",
       "<table border=\"1\" class=\"dataframe\">\n",
       "  <thead>\n",
       "    <tr style=\"text-align: right;\">\n",
       "      <th></th>\n",
       "      <th>Id</th>\n",
       "      <th>SepalLengthCm</th>\n",
       "      <th>SepalWidthCm</th>\n",
       "      <th>PetalLengthCm</th>\n",
       "      <th>PetalWidthCm</th>\n",
       "      <th>Species</th>\n",
       "    </tr>\n",
       "  </thead>\n",
       "  <tbody>\n",
       "    <tr>\n",
       "      <th>0</th>\n",
       "      <td>1</td>\n",
       "      <td>5.1</td>\n",
       "      <td>3.5</td>\n",
       "      <td>1.4</td>\n",
       "      <td>0.2</td>\n",
       "      <td>Iris-setosa</td>\n",
       "    </tr>\n",
       "    <tr>\n",
       "      <th>1</th>\n",
       "      <td>2</td>\n",
       "      <td>4.9</td>\n",
       "      <td>3.0</td>\n",
       "      <td>1.4</td>\n",
       "      <td>0.2</td>\n",
       "      <td>Iris-setosa</td>\n",
       "    </tr>\n",
       "    <tr>\n",
       "      <th>2</th>\n",
       "      <td>3</td>\n",
       "      <td>4.7</td>\n",
       "      <td>3.2</td>\n",
       "      <td>1.3</td>\n",
       "      <td>0.2</td>\n",
       "      <td>Iris-setosa</td>\n",
       "    </tr>\n",
       "    <tr>\n",
       "      <th>3</th>\n",
       "      <td>4</td>\n",
       "      <td>4.6</td>\n",
       "      <td>3.1</td>\n",
       "      <td>1.5</td>\n",
       "      <td>0.2</td>\n",
       "      <td>Iris-setosa</td>\n",
       "    </tr>\n",
       "    <tr>\n",
       "      <th>4</th>\n",
       "      <td>5</td>\n",
       "      <td>5.0</td>\n",
       "      <td>3.6</td>\n",
       "      <td>1.4</td>\n",
       "      <td>0.2</td>\n",
       "      <td>Iris-setosa</td>\n",
       "    </tr>\n",
       "  </tbody>\n",
       "</table>\n",
       "</div>"
      ],
      "text/plain": [
       "   Id  SepalLengthCm  SepalWidthCm  PetalLengthCm  PetalWidthCm      Species\n",
       "0   1            5.1           3.5            1.4           0.2  Iris-setosa\n",
       "1   2            4.9           3.0            1.4           0.2  Iris-setosa\n",
       "2   3            4.7           3.2            1.3           0.2  Iris-setosa\n",
       "3   4            4.6           3.1            1.5           0.2  Iris-setosa\n",
       "4   5            5.0           3.6            1.4           0.2  Iris-setosa"
      ]
     },
     "execution_count": 45,
     "metadata": {},
     "output_type": "execute_result"
    }
   ],
   "source": [
    "# load data \n",
    "iris = pd.read_csv(\"Iris.csv\")\n",
    "iris.head()"
   ]
  },
  {
   "cell_type": "markdown",
   "metadata": {},
   "source": [
    "- Number of training feature vectors ( first 40 in each class) = 40\n",
    "- Number of test feature vectors ( remaining 10 in each class)"
   ]
  },
  {
   "cell_type": "code",
   "execution_count": 46,
   "metadata": {},
   "outputs": [],
   "source": [
    "# split data into test\n",
    "\n",
    "testData = pd.concat([iris.iloc[:10],iris.iloc[50:60],iris.iloc[100:110]],axis = 0)\n",
    "trainData = pd.concat([iris.iloc[10:50],iris.iloc[60:100],iris.iloc[110:150]],axis = 0)\n"
   ]
  },
  {
   "cell_type": "code",
   "execution_count": 47,
   "metadata": {},
   "outputs": [
    {
     "name": "stdout",
     "output_type": "stream",
     "text": [
      "['Iris-virginica', 'Iris-setosa', 'Iris-versicolor']\n"
     ]
    }
   ],
   "source": [
    "\n",
    "flower_classes = set(trainData[\"Species\"])\n",
    "iris_classes = list(flower_classes)\n",
    "print(iris_classes)\n",
    "\n",
    "# Applying the same indexing to train ,test\n",
    "trainData['Species'] = trainData['Species'].apply(iris_classes.index)\n",
    "testData['Species'] = testData['Species'].apply(iris_classes.index)"
   ]
  },
  {
   "cell_type": "code",
   "execution_count": 48,
   "metadata": {},
   "outputs": [
    {
     "name": "stdout",
     "output_type": "stream",
     "text": [
      "      Id  SepalLengthCm  SepalWidthCm  PetalLengthCm  PetalWidthCm  Species\n",
      "10    11            5.4           3.7            1.5           0.2        1\n",
      "11    12            4.8           3.4            1.6           0.2        1\n",
      "12    13            4.8           3.0            1.4           0.1        1\n",
      "13    14            4.3           3.0            1.1           0.1        1\n",
      "14    15            5.8           4.0            1.2           0.2        1\n",
      "..   ...            ...           ...            ...           ...      ...\n",
      "145  146            6.7           3.0            5.2           2.3        0\n",
      "146  147            6.3           2.5            5.0           1.9        0\n",
      "147  148            6.5           3.0            5.2           2.0        0\n",
      "148  149            6.2           3.4            5.4           2.3        0\n",
      "149  150            5.9           3.0            5.1           1.8        0\n",
      "\n",
      "[120 rows x 6 columns]\n"
     ]
    }
   ],
   "source": [
    "print(trainData)"
   ]
  },
  {
   "cell_type": "code",
   "execution_count": 49,
   "metadata": {},
   "outputs": [],
   "source": [
    "# lets calculate the covariance matrix and mean for the train data\n",
    "\n",
    "trainingMean_class1 = trainData.iloc[:40,1:5].mean().to_numpy()\n",
    "trainingCov_class1 = np.cov(trainData.iloc[:40,1:5].to_numpy().T)\n",
    "\n",
    "trainingMean_class2 = trainData.iloc[40:80,1:5].mean().to_numpy()\n",
    "trainingCov_class2 = np.cov(trainData.iloc[40:80,1:5].to_numpy().T)\n",
    "\n",
    "trainingMean_class3 = trainData.iloc[80:120,1:5].mean().to_numpy()\n",
    "trainingCov_class3 = np.cov(trainData.iloc[80:120,1:5].to_numpy().T)\n",
    "\n",
    "trainingMean = [trainingMean_class1,trainingMean_class2,trainingMean_class3]\n",
    "trainingCov = [trainingCov_class1,trainingCov_class2,trainingCov_class3]\n",
    "\n",
    "# also find inverse of Covs \n",
    "trainingInvCov = [np.linalg.inv(x) for x in trainingCov]"
   ]
  },
  {
   "cell_type": "code",
   "execution_count": 59,
   "metadata": {},
   "outputs": [],
   "source": [
    "def posteriorProbability(dim,covM,X,mean,invCovM):\n",
    "    X = X.T\n",
    "    denominator = ((2*np.pi)**(dim/2))*((np.linalg.det(covM))**(1/2))\n",
    "    power = (-1*(((X-mean).T @ invCovM) @ (X-mean))*(1/2))\n",
    "    #print(power)\n",
    "    numerator = np.exp(power)\n",
    "    posteriorProb = numerator/denominator\n",
    "    \n",
    "    return posteriorProb"
   ]
  },
  {
   "cell_type": "code",
   "execution_count": 84,
   "metadata": {},
   "outputs": [],
   "source": [
    "def classify(dim,covMs,X,means,invCovMs):\n",
    "\n",
    "    # check across all classes \n",
    "\n",
    "    # maintain max var\n",
    "    max = -1\n",
    "    flag = -1  \n",
    "    Maxs = []\n",
    "    for i in range(0,3):\n",
    "        Mean = np.resize(means[i],(means[i].shape[0],1))\n",
    "        posteriorProb = posteriorProbability(dim,covMs[i],X,Mean,invCovMs[i])\n",
    "        Maxs.append(posteriorProb)\n",
    "        if posteriorProb > max: \n",
    "            max = posteriorProb\n",
    "            flag = i\n",
    "    \n",
    "    # flag is the class\n",
    "    if flag == 0 :\n",
    "        return 1\n",
    "    if flag == 1 :\n",
    "        return 2  \n",
    "    if flag == 2 :\n",
    "        return 0\n",
    "    return flag \n",
    "\n",
    "    \n",
    "\n",
    "    # check for class 1\n",
    "   "
   ]
  },
  {
   "cell_type": "code",
   "execution_count": 98,
   "metadata": {},
   "outputs": [],
   "source": [
    "# running through test data to check for predictions \n",
    "dim = 4\n",
    "predictions = []\n",
    "for i in range(testData.shape[0]):\n",
    "    X =  testData.iloc[i:i+1,1:5].to_numpy()\n",
    "    resultant = classify(dim,trainingCov,X,trainingMean,trainingInvCov)\n",
    "    predictions.append(resultant)"
   ]
  },
  {
   "cell_type": "code",
   "execution_count": 99,
   "metadata": {},
   "outputs": [
    {
     "name": "stdout",
     "output_type": "stream",
     "text": [
      "Accuracy of Bayesian Classifier : 100.0\n"
     ]
    }
   ],
   "source": [
    "# checking for accuracy\n",
    "match = 0  \n",
    "for i in range(len(testData)):\n",
    "    expected = testData[\"Species\"].iloc[i]\n",
    "    prediction = predictions[i]\n",
    "    if(prediction == expected):\n",
    "        match+=1\n",
    "\n",
    "accuracy = (match/len(testData))*100\n",
    "\n",
    "print(\"Accuracy of Bayesian Classifier :\" ,accuracy)"
   ]
  },
  {
   "cell_type": "code",
   "execution_count": null,
   "metadata": {},
   "outputs": [],
   "source": []
  }
 ],
 "metadata": {
  "kernelspec": {
   "display_name": "Python 3.8.10 64-bit",
   "language": "python",
   "name": "python3"
  },
  "language_info": {
   "codemirror_mode": {
    "name": "ipython",
    "version": 3
   },
   "file_extension": ".py",
   "mimetype": "text/x-python",
   "name": "python",
   "nbconvert_exporter": "python",
   "pygments_lexer": "ipython3",
   "version": "3.8.10"
  },
  "orig_nbformat": 4,
  "vscode": {
   "interpreter": {
    "hash": "916dbcbb3f70747c44a77c7bcd40155683ae19c65e1c03b4aa3499c5328201f1"
   }
  }
 },
 "nbformat": 4,
 "nbformat_minor": 2
}
