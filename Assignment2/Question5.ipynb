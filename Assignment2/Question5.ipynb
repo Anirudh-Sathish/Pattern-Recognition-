{
 "cells": [
  {
   "cell_type": "code",
   "execution_count": 2,
   "metadata": {},
   "outputs": [
    {
     "data": {
      "text/plain": [
       "' \\n    Anirudh Sathish , CS20B1125 \\n    Question No 5 \\n'"
      ]
     },
     "execution_count": 2,
     "metadata": {},
     "output_type": "execute_result"
    }
   ],
   "source": [
    "\"\"\" \n",
    "    Anirudh Sathish , CS20B1125 \n",
    "    Question No 5 \n",
    "\"\"\""
   ]
  },
  {
   "cell_type": "markdown",
   "metadata": {},
   "source": [
    "### Task\n",
    "- Use only two features: Petal Length and Petal Width, for 3 class classification and draw the decision boundary between them (2 dimension, 3 regions also called as multi-class problem)"
   ]
  },
  {
   "cell_type": "code",
   "execution_count": 3,
   "metadata": {},
   "outputs": [
    {
     "name": "stderr",
     "output_type": "stream",
     "text": [
      "/home/anirudh/.local/lib/python3.8/site-packages/pandas/core/computation/expressions.py:20: UserWarning: Pandas requires version '2.7.3' or newer of 'numexpr' (version '2.7.1' currently installed).\n",
      "  from pandas.core.computation.check import NUMEXPR_INSTALLED\n"
     ]
    }
   ],
   "source": [
    "# libraries \n",
    "import numpy as np \n",
    "import pandas as pd\n",
    "from sympy import solve \n",
    "import matplotlib.pyplot as plt "
   ]
  },
  {
   "cell_type": "code",
   "execution_count": 4,
   "metadata": {},
   "outputs": [
    {
     "data": {
      "text/html": [
       "<div>\n",
       "<style scoped>\n",
       "    .dataframe tbody tr th:only-of-type {\n",
       "        vertical-align: middle;\n",
       "    }\n",
       "\n",
       "    .dataframe tbody tr th {\n",
       "        vertical-align: top;\n",
       "    }\n",
       "\n",
       "    .dataframe thead th {\n",
       "        text-align: right;\n",
       "    }\n",
       "</style>\n",
       "<table border=\"1\" class=\"dataframe\">\n",
       "  <thead>\n",
       "    <tr style=\"text-align: right;\">\n",
       "      <th></th>\n",
       "      <th>Id</th>\n",
       "      <th>SepalLengthCm</th>\n",
       "      <th>SepalWidthCm</th>\n",
       "      <th>PetalLengthCm</th>\n",
       "      <th>PetalWidthCm</th>\n",
       "      <th>Species</th>\n",
       "    </tr>\n",
       "  </thead>\n",
       "  <tbody>\n",
       "    <tr>\n",
       "      <th>0</th>\n",
       "      <td>1</td>\n",
       "      <td>5.1</td>\n",
       "      <td>3.5</td>\n",
       "      <td>1.4</td>\n",
       "      <td>0.2</td>\n",
       "      <td>Iris-setosa</td>\n",
       "    </tr>\n",
       "    <tr>\n",
       "      <th>1</th>\n",
       "      <td>2</td>\n",
       "      <td>4.9</td>\n",
       "      <td>3.0</td>\n",
       "      <td>1.4</td>\n",
       "      <td>0.2</td>\n",
       "      <td>Iris-setosa</td>\n",
       "    </tr>\n",
       "    <tr>\n",
       "      <th>2</th>\n",
       "      <td>3</td>\n",
       "      <td>4.7</td>\n",
       "      <td>3.2</td>\n",
       "      <td>1.3</td>\n",
       "      <td>0.2</td>\n",
       "      <td>Iris-setosa</td>\n",
       "    </tr>\n",
       "    <tr>\n",
       "      <th>3</th>\n",
       "      <td>4</td>\n",
       "      <td>4.6</td>\n",
       "      <td>3.1</td>\n",
       "      <td>1.5</td>\n",
       "      <td>0.2</td>\n",
       "      <td>Iris-setosa</td>\n",
       "    </tr>\n",
       "    <tr>\n",
       "      <th>4</th>\n",
       "      <td>5</td>\n",
       "      <td>5.0</td>\n",
       "      <td>3.6</td>\n",
       "      <td>1.4</td>\n",
       "      <td>0.2</td>\n",
       "      <td>Iris-setosa</td>\n",
       "    </tr>\n",
       "  </tbody>\n",
       "</table>\n",
       "</div>"
      ],
      "text/plain": [
       "   Id  SepalLengthCm  SepalWidthCm  PetalLengthCm  PetalWidthCm      Species\n",
       "0   1            5.1           3.5            1.4           0.2  Iris-setosa\n",
       "1   2            4.9           3.0            1.4           0.2  Iris-setosa\n",
       "2   3            4.7           3.2            1.3           0.2  Iris-setosa\n",
       "3   4            4.6           3.1            1.5           0.2  Iris-setosa\n",
       "4   5            5.0           3.6            1.4           0.2  Iris-setosa"
      ]
     },
     "execution_count": 4,
     "metadata": {},
     "output_type": "execute_result"
    }
   ],
   "source": [
    "# load data \n",
    "iris = pd.read_csv(\"Iris.csv\")\n",
    "iris.head()"
   ]
  },
  {
   "cell_type": "code",
   "execution_count": 5,
   "metadata": {},
   "outputs": [
    {
     "name": "stdout",
     "output_type": "stream",
     "text": [
      "     PetalLengthCm  PetalWidthCm         Species\n",
      "0              1.4           0.2     Iris-setosa\n",
      "1              1.4           0.2     Iris-setosa\n",
      "2              1.3           0.2     Iris-setosa\n",
      "3              1.5           0.2     Iris-setosa\n",
      "4              1.4           0.2     Iris-setosa\n",
      "..             ...           ...             ...\n",
      "145            5.2           2.3  Iris-virginica\n",
      "146            5.0           1.9  Iris-virginica\n",
      "147            5.2           2.0  Iris-virginica\n",
      "148            5.4           2.3  Iris-virginica\n",
      "149            5.1           1.8  Iris-virginica\n",
      "\n",
      "[150 rows x 3 columns]\n"
     ]
    }
   ],
   "source": [
    "iris_modified = iris.iloc[:,3:]\n",
    "print(iris_modified)"
   ]
  },
  {
   "cell_type": "code",
   "execution_count": 6,
   "metadata": {},
   "outputs": [],
   "source": [
    "# lets divide it into three classes \n",
    "iris_1 = iris_modified.iloc[0:50]\n",
    "iris_2 = iris_modified.iloc[50:100]\n",
    "iris_3 = iris_modified.iloc[100:150]"
   ]
  },
  {
   "cell_type": "code",
   "execution_count": 7,
   "metadata": {},
   "outputs": [
    {
     "name": "stdout",
     "output_type": "stream",
     "text": [
      "[[0.03010612 0.00569796]\n",
      " [0.00569796 0.01149388]]\n"
     ]
    }
   ],
   "source": [
    "# Group 1 setosa \n",
    "iris_1Data = iris_1.iloc[:,0:2].to_numpy()\n",
    "cov_w1 = np.cov(iris_1Data.T)\n",
    "print(cov_w1)"
   ]
  },
  {
   "cell_type": "code",
   "execution_count": 8,
   "metadata": {},
   "outputs": [
    {
     "name": "stdout",
     "output_type": "stream",
     "text": [
      "[[0.22081633 0.07310204]\n",
      " [0.07310204 0.03910612]]\n"
     ]
    }
   ],
   "source": [
    "# Group 2 versicolor\n",
    "iris_2Data = iris_2.iloc[:,0:2].to_numpy()\n",
    "cov_w2 = np.cov(iris_2Data.T)\n",
    "print(cov_w2)\n",
    "#iris_2"
   ]
  },
  {
   "cell_type": "code",
   "execution_count": 9,
   "metadata": {},
   "outputs": [
    {
     "name": "stdout",
     "output_type": "stream",
     "text": [
      "[[0.30458776 0.04882449]\n",
      " [0.04882449 0.07543265]]\n"
     ]
    }
   ],
   "source": [
    "# Group 2 versicolor\n",
    "iris_3Data = iris_3.iloc[:,0:2].to_numpy()\n",
    "cov_w3 = np.cov(iris_3Data.T)\n",
    "print(cov_w3)"
   ]
  },
  {
   "cell_type": "markdown",
   "metadata": {},
   "source": [
    "All  three values are different , so it is  part of the third case "
   ]
  },
  {
   "cell_type": "code",
   "execution_count": 10,
   "metadata": {},
   "outputs": [],
   "source": [
    "# calculating the inverses and the  means \n",
    "inv_Cov_w1 = np.linalg.inv(cov_w1)\n",
    "inv_Cov_w2 = np.linalg.inv(cov_w2)\n",
    "inv_Cov_w3 = np.linalg.inv(cov_w3)\n",
    "\n",
    "# calculate mean \n",
    "mean_w1 = np.mean(iris_1Data,axis = 0)\n",
    "mean_w2 = np.mean(iris_2Data , axis = 0)\n",
    "mean_w3 = np.mean(iris_3Data , axis = 0)"
   ]
  },
  {
   "cell_type": "code",
   "execution_count": 11,
   "metadata": {},
   "outputs": [
    {
     "name": "stdout",
     "output_type": "stream",
     "text": [
      "[[x]\n",
      " [y]]\n"
     ]
    }
   ],
   "source": [
    "from sympy import symbols , expand , Poly\n",
    "\n",
    "x , y = symbols('x , y')\n",
    "X = np.array([[x],[y]])\n",
    "print(X)\n",
    "\n",
    "p_w1 = 1/3 \n",
    "p_w2 = 1/3\n",
    "p_w3 = 1/3"
   ]
  },
  {
   "cell_type": "code",
   "execution_count": 12,
   "metadata": {},
   "outputs": [],
   "source": [
    "# for class w1 \n",
    "Ai_class_w1 = -0.5*inv_Cov_w1\n",
    "\n",
    "Bi_class_w1 = inv_Cov_w1 @ mean_w1\n",
    "\n",
    "#Ci_class_w1 = (-0.5*np.matmul((mean_w1.T),inv_Cov_w1,mean_w1))-0.5*(np.log(np.linalg.det(cov_w1))) + np.log(p_w1)\n",
    "Ci_class_w1 = -0.5*np.matmul(np.matmul(mean_w1.T,inv_Cov_w1),mean_w1)-0.5*(np.log(np.linalg.det(cov_w1))) + np.log(p_w1)\n",
    "\n",
    "#g_w1 = np.matmul(X,Ai_class_w1,X.T)+ np.matmul(Bi_class_w1.T,X)+Ci_class_w1"
   ]
  },
  {
   "cell_type": "code",
   "execution_count": 13,
   "metadata": {},
   "outputs": [],
   "source": [
    "# for class w2 \n",
    "Ai_class_w2 = -0.5*inv_Cov_w2\n",
    "\n",
    "Bi_class_w2 = inv_Cov_w2 @ mean_w2\n",
    "\n",
    "#Ci_class_w2 = (-0.5*np.matmul((mean_w2.T),inv_Cov_w2,mean_w2))-0.5*(np.log(np.linalg.det(cov_w2))) + np.log(p_w2)\n",
    "Ci_class_w2 = -0.5*np.matmul(np.matmul(mean_w2.T,inv_Cov_w2),mean_w2)-0.5*(np.log(np.linalg.det(cov_w2))) + np.log(p_w2)\n",
    "\n",
    "#g_w2 = np.matmul(X,Ai_class_w2,X.T)+ np.matmul(Bi_class_w2.T,X)+Ci_class_w2"
   ]
  },
  {
   "cell_type": "code",
   "execution_count": 14,
   "metadata": {},
   "outputs": [],
   "source": [
    "# for class w3 \n",
    "Ai_class_w3 = -0.5*inv_Cov_w3\n",
    "\n",
    "Bi_class_w3 = inv_Cov_w3 @ mean_w3\n",
    "\n",
    "#Ci_class_w3 = (-0.5*np.matmul((mean_w3.T),inv_Cov_w3,mean_w3))-0.5*(np.log(np.linalg.det(cov_w3))) + np.log(p_w3)\n",
    "Ci_class_w3 = -0.5*np.matmul(np.matmul(mean_w3.T,inv_Cov_w3),mean_w3)-0.5*(np.log(np.linalg.det(cov_w3))) + np.log(p_w3)\n",
    "\n",
    "#g_w3 = np.matmul(X,Ai_class_w3,X.T)+ np.matmul(Bi_class_w3.T,X)+Ci_class_w3"
   ]
  },
  {
   "cell_type": "code",
   "execution_count": 39,
   "metadata": {},
   "outputs": [
    {
     "name": "stdout",
     "output_type": "stream",
     "text": [
      "[(-0.139653762724135*x - 1.38449873376855*sqrt(-0.436697803198121*x**2 + x + 0.251234530609431) + 0.0857083657727485,), (-0.139653762724135*x + 1.38449873376855*sqrt(-0.436697803198121*x**2 + x + 0.251234530609431) + 0.0857083657727485,)]\n"
     ]
    }
   ],
   "source": [
    "gx_12 = X.T @ (Ai_class_w1-Ai_class_w2) @ X + (Bi_class_w1- Bi_class_w2).T @ X + (Ci_class_w1 - Ci_class_w2)\n",
    "sol12 = solve(gx_12[0],y)\n",
    "print(sol12)"
   ]
  },
  {
   "cell_type": "code",
   "execution_count": 37,
   "metadata": {},
   "outputs": [
    {
     "name": "stdout",
     "output_type": "stream",
     "text": [
      "[(0.194537614676535*x - 0.856743491745518*sqrt(-0.501846727754526*x**2 + x + 0.974471851098734) - 0.245996507131731,), (0.194537614676535*x + 0.856743491745518*sqrt(-0.501846727754526*x**2 + x + 0.974471851098734) - 0.245996507131731,)]\n"
     ]
    }
   ],
   "source": [
    "gx_13 = X.T @ (Ai_class_w1-Ai_class_w3) @ X + (Bi_class_w1- Bi_class_w3).T @ X + (Ci_class_w1 - Ci_class_w3)\n",
    "\n",
    "sol13 = solve(gx_13[0],y)\n",
    "print(sol13)"
   ]
  },
  {
   "cell_type": "code",
   "execution_count": 32,
   "metadata": {},
   "outputs": [
    {
     "name": "stdout",
     "output_type": "stream",
     "text": [
      "[(0.379348898379015*x - 0.969021830332695*sqrt(-0.0140965221198476*x**2 - 0.117692978621301*x + 1) - 0.429432728163692,), (0.379348898379015*x + 0.969021830332695*sqrt(-0.0140965221198476*x**2 - 0.117692978621301*x + 1) - 0.429432728163692,)]\n"
     ]
    }
   ],
   "source": [
    "gx_23 = X.T @ (Ai_class_w2-Ai_class_w3) @ X + (Bi_class_w2- Bi_class_w3).T @ X + (Ci_class_w2 - Ci_class_w3)\n",
    "sol23 = solve(gx_23[0],y)\n",
    "print(sol23)"
   ]
  },
  {
   "cell_type": "code",
   "execution_count": 41,
   "metadata": {},
   "outputs": [
    {
     "name": "stderr",
     "output_type": "stream",
     "text": [
      "/tmp/ipykernel_85460/2111442007.py:2: RuntimeWarning: invalid value encountered in sqrt\n",
      "  y_temp231 = 0.379348898379015*x_temp - 0.969021830332695*np.sqrt(-0.0140965221198476*x_temp**2 - 0.117692978621301*x_temp + 1) - 0.429432728163692\n",
      "/tmp/ipykernel_85460/2111442007.py:3: RuntimeWarning: invalid value encountered in sqrt\n",
      "  y_temp232 = 0.379348898379015*x_temp + 0.969021830332695*np.sqrt(-0.0140965221198476*x_temp**2 - 0.117692978621301*x_temp + 1) - 0.429432728163692\n",
      "/tmp/ipykernel_85460/2111442007.py:5: RuntimeWarning: invalid value encountered in sqrt\n",
      "  y_temp131 = 0.194537614676535*x_temp - 0.856743491745518*np.sqrt(-0.501846727754526*x_temp**2 + x_temp + 0.974471851098734) - 0.245996507131731\n",
      "/tmp/ipykernel_85460/2111442007.py:6: RuntimeWarning: invalid value encountered in sqrt\n",
      "  y_temp132 = 0.194537614676535*x_temp + 0.856743491745518*np.sqrt(-0.501846727754526*x_temp**2 + x_temp + 0.974471851098734) - 0.245996507131731\n",
      "/tmp/ipykernel_85460/2111442007.py:8: RuntimeWarning: invalid value encountered in sqrt\n",
      "  y_temp121 = -0.139653762724135*x_temp - 1.38449873376855*np.sqrt(-0.436697803198121*x_temp**2 + x_temp + 0.251234530609431) + 0.0857083657727485\n",
      "/tmp/ipykernel_85460/2111442007.py:9: RuntimeWarning: invalid value encountered in sqrt\n",
      "  y_temp122 = -0.139653762724135*x_temp + 1.38449873376855*np.sqrt(-0.436697803198121*x_temp**2 + x_temp + 0.251234530609431) + 0.0857083657727485\n"
     ]
    },
    {
     "data": {
      "image/png": "[encoded data removed]",
      "text/plain": [
       "<Figure size 640x480 with 1 Axes>"
      ]
     },
     "metadata": {},
     "output_type": "display_data"
    }
   ],
   "source": [
    "x_temp = np.linspace(1,9,100)\n",
    "y_temp231 = 0.379348898379015*x_temp - 0.969021830332695*np.sqrt(-0.0140965221198476*x_temp**2 - 0.117692978621301*x_temp + 1) - 0.429432728163692\n",
    "y_temp232 = 0.379348898379015*x_temp + 0.969021830332695*np.sqrt(-0.0140965221198476*x_temp**2 - 0.117692978621301*x_temp + 1) - 0.429432728163692\n",
    "\n",
    "y_temp131 = 0.194537614676535*x_temp - 0.856743491745518*np.sqrt(-0.501846727754526*x_temp**2 + x_temp + 0.974471851098734) - 0.245996507131731\n",
    "y_temp132 = 0.194537614676535*x_temp + 0.856743491745518*np.sqrt(-0.501846727754526*x_temp**2 + x_temp + 0.974471851098734) - 0.245996507131731\n",
    "\n",
    "y_temp121 = -0.139653762724135*x_temp - 1.38449873376855*np.sqrt(-0.436697803198121*x_temp**2 + x_temp + 0.251234530609431) + 0.0857083657727485\n",
    "y_temp122 = -0.139653762724135*x_temp + 1.38449873376855*np.sqrt(-0.436697803198121*x_temp**2 + x_temp + 0.251234530609431) + 0.0857083657727485\n",
    "\n",
    "plt.plot(x_temp,y_temp231)\n",
    "plt.plot(x_temp,y_temp232)\n",
    "\n",
    "plt.plot(x_temp,y_temp131)\n",
    "plt.plot(x_temp,y_temp132)\n",
    "\n",
    "plt.plot(x_temp,y_temp121)\n",
    "plt.plot(x_temp,y_temp122)\n",
    "\n",
    "plt.scatter(iris_1Data[:,0],iris_1Data[:,1],color = 'red' )\n",
    "plt.scatter(iris_2Data[:,0],iris_2Data[:,1],color = 'blue')\n",
    "plt.scatter(iris_3Data[:,0],iris_3Data[:,1],color = 'green')\n",
    "\n",
    "plt.xlabel(\"Petal Length\")\n",
    "plt.ylabel(\"Petal Width\")\n",
    "title = \" Setosa : Red , Versicolor : Blue , Virginica : Green\"\n",
    "plt.suptitle(title)\n",
    "plt.title('Decision boundary between class Setosa , VersiColor and Virginica. ')\n",
    "plt.show()"
   ]
  },
  {
   "cell_type": "code",
   "execution_count": null,
   "metadata": {},
   "outputs": [],
   "source": []
  }
 ],
 "metadata": {
  "kernelspec": {
   "display_name": "Python 3.8.10 64-bit",
   "language": "python",
   "name": "python3"
  },
  "language_info": {
   "codemirror_mode": {
    "name": "ipython",
    "version": 3
   },
   "file_extension": ".py",
   "mimetype": "text/x-python",
   "name": "python",
   "nbconvert_exporter": "python",
   "pygments_lexer": "ipython3",
   "version": "3.8.10"
  },
  "orig_nbformat": 4,
  "vscode": {
   "interpreter": {
    "hash": "916dbcbb3f70747c44a77c7bcd40155683ae19c65e1c03b4aa3499c5328201f1"
   }
  }
 },
 "nbformat": 4,
 "nbformat_minor": 2
}
