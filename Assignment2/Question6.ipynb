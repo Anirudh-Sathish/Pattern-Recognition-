{
 "cells": [
  {
   "cell_type": "code",
   "execution_count": 2,
   "metadata": {},
   "outputs": [
    {
     "data": {
      "text/plain": [
       "' \\n    Anirudh Sathish , CS20B1125 \\n    Question No 6 \\n'"
      ]
     },
     "execution_count": 2,
     "metadata": {},
     "output_type": "execute_result"
    }
   ],
   "source": [
    "\"\"\" \n",
    "    Anirudh Sathish , CS20B1125 \n",
    "    Question No 6 \n",
    "\"\"\""
   ]
  },
  {
   "cell_type": "markdown",
   "metadata": {},
   "source": [
    "### Task \n",
    "- Consider the 128- dimensional feature vectors given in the “face feature vectors.csv” file.\n",
    "- Use the following information to design and implement a Bayes Classifier.\n",
    "#### Dataset Specifications:\n",
    "- Total number of samples = 800\n",
    "- Number of classes = 2 ( labelled as “male” and “female”)\n",
    "- Samples from “1 to 400” belongs to class “male”\n",
    "- Samples from “401 to 800” belongs to class “female”\n",
    "- Number of samples per class = 400\n",
    "#### Use the following information to design classifier:\n",
    "- Number of test samples ( first 5 in each class) = 5\n",
    "- Number of training samples ( remaining 395 in each class) = 395\n",
    "- Number of dimensions = 128"
   ]
  },
  {
   "cell_type": "code",
   "execution_count": 3,
   "metadata": {},
   "outputs": [
    {
     "name": "stderr",
     "output_type": "stream",
     "text": [
      "/home/anirudh/.local/lib/python3.8/site-packages/pandas/core/computation/expressions.py:20: UserWarning: Pandas requires version '2.7.3' or newer of 'numexpr' (version '2.7.1' currently installed).\n",
      "  from pandas.core.computation.check import NUMEXPR_INSTALLED\n"
     ]
    }
   ],
   "source": [
    "# libraries \n",
    "import numpy as np \n",
    "import pandas as pd"
   ]
  },
  {
   "cell_type": "code",
   "execution_count": 4,
   "metadata": {},
   "outputs": [
    {
     "data": {
      "text/html": [
       "<div>\n",
       "<style scoped>\n",
       "    .dataframe tbody tr th:only-of-type {\n",
       "        vertical-align: middle;\n",
       "    }\n",
       "\n",
       "    .dataframe tbody tr th {\n",
       "        vertical-align: top;\n",
       "    }\n",
       "\n",
       "    .dataframe thead th {\n",
       "        text-align: right;\n",
       "    }\n",
       "</style>\n",
       "<table border=\"1\" class=\"dataframe\">\n",
       "  <thead>\n",
       "    <tr style=\"text-align: right;\">\n",
       "      <th></th>\n",
       "      <th>Unnamed: 0</th>\n",
       "      <th>Unnamed: 1</th>\n",
       "      <th>0</th>\n",
       "      <th>1</th>\n",
       "      <th>2</th>\n",
       "      <th>3</th>\n",
       "      <th>4</th>\n",
       "      <th>5</th>\n",
       "      <th>6</th>\n",
       "      <th>7</th>\n",
       "      <th>...</th>\n",
       "      <th>118</th>\n",
       "      <th>119</th>\n",
       "      <th>120</th>\n",
       "      <th>121</th>\n",
       "      <th>122</th>\n",
       "      <th>123</th>\n",
       "      <th>124</th>\n",
       "      <th>125</th>\n",
       "      <th>126</th>\n",
       "      <th>127</th>\n",
       "    </tr>\n",
       "  </thead>\n",
       "  <tbody>\n",
       "    <tr>\n",
       "      <th>0</th>\n",
       "      <td>1</td>\n",
       "      <td>male</td>\n",
       "      <td>-0.066420</td>\n",
       "      <td>0.151611</td>\n",
       "      <td>0.027740</td>\n",
       "      <td>0.052771</td>\n",
       "      <td>-0.066105</td>\n",
       "      <td>-0.041232</td>\n",
       "      <td>-0.002637</td>\n",
       "      <td>-0.158467</td>\n",
       "      <td>...</td>\n",
       "      <td>0.025989</td>\n",
       "      <td>-0.001087</td>\n",
       "      <td>0.027260</td>\n",
       "      <td>-0.046754</td>\n",
       "      <td>-0.118619</td>\n",
       "      <td>-0.163774</td>\n",
       "      <td>-0.000590</td>\n",
       "      <td>-0.076400</td>\n",
       "      <td>0.107497</td>\n",
       "      <td>0.001567</td>\n",
       "    </tr>\n",
       "    <tr>\n",
       "      <th>1</th>\n",
       "      <td>2</td>\n",
       "      <td>male</td>\n",
       "      <td>-0.030614</td>\n",
       "      <td>0.049667</td>\n",
       "      <td>0.008084</td>\n",
       "      <td>-0.050324</td>\n",
       "      <td>0.007649</td>\n",
       "      <td>-0.063818</td>\n",
       "      <td>-0.019530</td>\n",
       "      <td>-0.119905</td>\n",
       "      <td>...</td>\n",
       "      <td>0.044229</td>\n",
       "      <td>-0.023900</td>\n",
       "      <td>-0.028108</td>\n",
       "      <td>0.040618</td>\n",
       "      <td>-0.146579</td>\n",
       "      <td>-0.141244</td>\n",
       "      <td>0.016162</td>\n",
       "      <td>0.017638</td>\n",
       "      <td>0.080610</td>\n",
       "      <td>-0.015930</td>\n",
       "    </tr>\n",
       "    <tr>\n",
       "      <th>2</th>\n",
       "      <td>3</td>\n",
       "      <td>male</td>\n",
       "      <td>-0.096178</td>\n",
       "      <td>0.061127</td>\n",
       "      <td>0.035326</td>\n",
       "      <td>-0.035388</td>\n",
       "      <td>-0.090728</td>\n",
       "      <td>-0.018634</td>\n",
       "      <td>-0.024315</td>\n",
       "      <td>-0.139786</td>\n",
       "      <td>...</td>\n",
       "      <td>0.111141</td>\n",
       "      <td>0.059436</td>\n",
       "      <td>-0.029222</td>\n",
       "      <td>0.042115</td>\n",
       "      <td>-0.222173</td>\n",
       "      <td>-0.116908</td>\n",
       "      <td>0.093428</td>\n",
       "      <td>0.017391</td>\n",
       "      <td>0.057652</td>\n",
       "      <td>0.086116</td>\n",
       "    </tr>\n",
       "    <tr>\n",
       "      <th>3</th>\n",
       "      <td>4</td>\n",
       "      <td>male</td>\n",
       "      <td>-0.103057</td>\n",
       "      <td>0.085044</td>\n",
       "      <td>0.078333</td>\n",
       "      <td>-0.035873</td>\n",
       "      <td>-0.028163</td>\n",
       "      <td>0.004924</td>\n",
       "      <td>0.007829</td>\n",
       "      <td>-0.017016</td>\n",
       "      <td>...</td>\n",
       "      <td>0.100793</td>\n",
       "      <td>-0.002644</td>\n",
       "      <td>-0.023388</td>\n",
       "      <td>0.029497</td>\n",
       "      <td>-0.139830</td>\n",
       "      <td>-0.119243</td>\n",
       "      <td>0.005306</td>\n",
       "      <td>-0.015100</td>\n",
       "      <td>0.161575</td>\n",
       "      <td>0.062462</td>\n",
       "    </tr>\n",
       "    <tr>\n",
       "      <th>4</th>\n",
       "      <td>5</td>\n",
       "      <td>male</td>\n",
       "      <td>-0.125815</td>\n",
       "      <td>0.120046</td>\n",
       "      <td>0.023131</td>\n",
       "      <td>-0.042901</td>\n",
       "      <td>0.038215</td>\n",
       "      <td>-0.049677</td>\n",
       "      <td>-0.054258</td>\n",
       "      <td>-0.130758</td>\n",
       "      <td>...</td>\n",
       "      <td>0.090197</td>\n",
       "      <td>0.067527</td>\n",
       "      <td>0.039926</td>\n",
       "      <td>0.047469</td>\n",
       "      <td>-0.056852</td>\n",
       "      <td>-0.076700</td>\n",
       "      <td>0.004966</td>\n",
       "      <td>0.028171</td>\n",
       "      <td>0.026041</td>\n",
       "      <td>0.084135</td>\n",
       "    </tr>\n",
       "  </tbody>\n",
       "</table>\n",
       "<p>5 rows × 130 columns</p>\n",
       "</div>"
      ],
      "text/plain": [
       "   Unnamed: 0 Unnamed: 1         0         1         2         3         4  \\\n",
       "0           1       male -0.066420  0.151611  0.027740  0.052771 -0.066105   \n",
       "1           2       male -0.030614  0.049667  0.008084 -0.050324  0.007649   \n",
       "2           3       male -0.096178  0.061127  0.035326 -0.035388 -0.090728   \n",
       "3           4       male -0.103057  0.085044  0.078333 -0.035873 -0.028163   \n",
       "4           5       male -0.125815  0.120046  0.023131 -0.042901  0.038215   \n",
       "\n",
       "          5         6         7  ...       118       119       120       121  \\\n",
       "0 -0.041232 -0.002637 -0.158467  ...  0.025989 -0.001087  0.027260 -0.046754   \n",
       "1 -0.063818 -0.019530 -0.119905  ...  0.044229 -0.023900 -0.028108  0.040618   \n",
       "2 -0.018634 -0.024315 -0.139786  ...  0.111141  0.059436 -0.029222  0.042115   \n",
       "3  0.004924  0.007829 -0.017016  ...  0.100793 -0.002644 -0.023388  0.029497   \n",
       "4 -0.049677 -0.054258 -0.130758  ...  0.090197  0.067527  0.039926  0.047469   \n",
       "\n",
       "        122       123       124       125       126       127  \n",
       "0 -0.118619 -0.163774 -0.000590 -0.076400  0.107497  0.001567  \n",
       "1 -0.146579 -0.141244  0.016162  0.017638  0.080610 -0.015930  \n",
       "2 -0.222173 -0.116908  0.093428  0.017391  0.057652  0.086116  \n",
       "3 -0.139830 -0.119243  0.005306 -0.015100  0.161575  0.062462  \n",
       "4 -0.056852 -0.076700  0.004966  0.028171  0.026041  0.084135  \n",
       "\n",
       "[5 rows x 130 columns]"
      ]
     },
     "execution_count": 4,
     "metadata": {},
     "output_type": "execute_result"
    }
   ],
   "source": [
    "# load data \n",
    "face = pd.read_csv(\"face.csv\")\n",
    "face.head()"
   ]
  },
  {
   "cell_type": "code",
   "execution_count": 5,
   "metadata": {},
   "outputs": [],
   "source": [
    "# split data into test\n",
    "\n",
    "testData = pd.concat([face.iloc[:5],face.iloc[400:405]],axis = 0)\n",
    "trainData = pd.concat([face.iloc[5:400],face.iloc[405:800]],axis = 0)\n"
   ]
  },
  {
   "cell_type": "code",
   "execution_count": 6,
   "metadata": {},
   "outputs": [
    {
     "data": {
      "text/plain": [
       "5        male\n",
       "6        male\n",
       "7        male\n",
       "8        male\n",
       "9        male\n",
       "        ...  \n",
       "795    female\n",
       "796    female\n",
       "797    female\n",
       "798    female\n",
       "799    female\n",
       "Name: Unnamed: 1, Length: 790, dtype: object"
      ]
     },
     "execution_count": 6,
     "metadata": {},
     "output_type": "execute_result"
    }
   ],
   "source": [
    "trainData.iloc[:,1]"
   ]
  },
  {
   "cell_type": "code",
   "execution_count": 7,
   "metadata": {},
   "outputs": [
    {
     "name": "stdout",
     "output_type": "stream",
     "text": [
      "['female', 'male']\n"
     ]
    },
    {
     "name": "stderr",
     "output_type": "stream",
     "text": [
      "/tmp/ipykernel_87785/3618446032.py:6: FutureWarning: In a future version, `df.iloc[:, i] = newvals` will attempt to set the values inplace instead of always setting a new array. To retain the old behavior, use either `df[df.columns[i]] = newvals` or, if columns are non-unique, `df.isetitem(i, newvals)`\n",
      "  trainData.iloc[:,1] = trainData.iloc[:,1].apply(classes.index)\n",
      "/tmp/ipykernel_87785/3618446032.py:7: FutureWarning: In a future version, `df.iloc[:, i] = newvals` will attempt to set the values inplace instead of always setting a new array. To retain the old behavior, use either `df[df.columns[i]] = newvals` or, if columns are non-unique, `df.isetitem(i, newvals)`\n",
      "  testData.iloc[:,1] = testData.iloc[:,1].apply(classes.index)\n"
     ]
    }
   ],
   "source": [
    "gender_classes = set(trainData.iloc[:,1])\n",
    "classes = list(gender_classes)\n",
    "print(classes)\n",
    "\n",
    "#Applying the same indexing to train ,test\n",
    "trainData.iloc[:,1] = trainData.iloc[:,1].apply(classes.index)\n",
    "testData.iloc[:,1] = testData.iloc[:,1].apply(classes.index)"
   ]
  },
  {
   "cell_type": "code",
   "execution_count": 8,
   "metadata": {},
   "outputs": [],
   "source": [
    "# lets calculate the covariance matrix and mean for the train data\n",
    "\n",
    "trainingMean_class1 = trainData.iloc[5:400,2:128].mean().to_numpy()\n",
    "trainingCov_class1 = np.cov(trainData.iloc[5:400,2:128].to_numpy().T)\n",
    "\n",
    "trainingMean_class2 = trainData.iloc[405:800,2:128].mean().to_numpy()\n",
    "trainingCov_class2 = np.cov(trainData.iloc[405:800,2:128].to_numpy().T)\n",
    "\n",
    "trainingMean = [trainingMean_class1,trainingMean_class2]\n",
    "trainingCov = [trainingCov_class1,trainingCov_class2]\n",
    "\n",
    "# also find inverse of Covs \n",
    "trainingInvCov = [np.linalg.inv(x) for x in trainingCov]"
   ]
  },
  {
   "cell_type": "code",
   "execution_count": 9,
   "metadata": {},
   "outputs": [],
   "source": [
    "def posteriorProbability(dim,covM,X,mean,invCovM):\n",
    "    X = X.T\n",
    "    #ignore denominator \n",
    "    #denominator = ((2*np.pi)**(dim/2))*((np.linalg.det(covM))**(1/2))\n",
    "    power = (-1*(((X-mean).T @ invCovM) @ (X-mean))*(1/2))\n",
    "    #print(power)\n",
    "    numerator = np.exp(power)\n",
    "    posteriorProb = numerator\n",
    "    \n",
    "    return posteriorProb"
   ]
  },
  {
   "cell_type": "code",
   "execution_count": 17,
   "metadata": {},
   "outputs": [],
   "source": [
    "def classify(dim,covMs,X,means,invCovMs):\n",
    "\n",
    "    # check across all classes \n",
    "\n",
    "    # maintain max var\n",
    "    max = -1\n",
    "    flag = -1  \n",
    "    Maxs = []\n",
    "    for i in range(0,2):\n",
    "        Mean = np.resize(means[i],(means[i].shape[0],1))\n",
    "        posteriorProb = posteriorProbability(dim,covMs[i],X,Mean,invCovMs[i])\n",
    "        Maxs.append(posteriorProb)\n",
    "        if posteriorProb > max: \n",
    "            max = posteriorProb\n",
    "            flag = i\n",
    "    \n",
    "    # flag is the class\n",
    "    if flag == 0:\n",
    "        return 1 \n",
    "    if flag == 1:\n",
    "        return 0 \n",
    "\n",
    "    return flag \n",
    "\n",
    "    "
   ]
  },
  {
   "cell_type": "code",
   "execution_count": 18,
   "metadata": {},
   "outputs": [],
   "source": [
    "# running through test data to check for predictions \n",
    "dim = 128\n",
    "predictions = []\n",
    "for i in range(testData.shape[0]):\n",
    "    X =  testData.iloc[i:i+1,2:128].to_numpy()\n",
    "    resultant = classify(dim,trainingCov,X,trainingMean,trainingInvCov)\n",
    "    predictions.append(resultant)"
   ]
  },
  {
   "cell_type": "code",
   "execution_count": 19,
   "metadata": {},
   "outputs": [
    {
     "name": "stdout",
     "output_type": "stream",
     "text": [
      "[1, 1, 1, 1, 1, 1, 0, 0, 0, 0]\n"
     ]
    }
   ],
   "source": [
    "print(predictions)"
   ]
  },
  {
   "cell_type": "code",
   "execution_count": 21,
   "metadata": {},
   "outputs": [
    {
     "name": "stdout",
     "output_type": "stream",
     "text": [
      "Accuracy of the Bayesian Classifier : 90.0\n"
     ]
    }
   ],
   "source": [
    "match = 0  \n",
    "for i in range(len(testData)):\n",
    "    expected = int(testData.iloc[i:i+1,1])\n",
    "    prediction = predictions[i]\n",
    "    if(prediction == expected):\n",
    "        match+=1\n",
    "accuracy = (match/len(testData))*100\n",
    "print(\"Accuracy of the Bayesian Classifier :\" ,accuracy)"
   ]
  },
  {
   "cell_type": "code",
   "execution_count": null,
   "metadata": {},
   "outputs": [],
   "source": []
  }
 ],
 "metadata": {
  "kernelspec": {
   "display_name": "Python 3.8.10 64-bit",
   "language": "python",
   "name": "python3"
  },
  "language_info": {
   "codemirror_mode": {
    "name": "ipython",
    "version": 3
   },
   "file_extension": ".py",
   "mimetype": "text/x-python",
   "name": "python",
   "nbconvert_exporter": "python",
   "pygments_lexer": "ipython3",
   "version": "3.8.10"
  },
  "orig_nbformat": 4,
  "vscode": {
   "interpreter": {
    "hash": "916dbcbb3f70747c44a77c7bcd40155683ae19c65e1c03b4aa3499c5328201f1"
   }
  }
 },
 "nbformat": 4,
 "nbformat_minor": 2
}
