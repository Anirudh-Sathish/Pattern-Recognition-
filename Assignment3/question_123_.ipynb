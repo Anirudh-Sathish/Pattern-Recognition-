{
 "cells": [
  {
   "cell_type": "code",
   "execution_count": 113,
   "metadata": {},
   "outputs": [],
   "source": [
    "# Anirudh Sathish \n",
    "# CS20B1125 \n",
    "# Question 1, 2 , 3 "
   ]
  },
  {
   "cell_type": "markdown",
   "metadata": {},
   "source": [
    "### Question 1 \n",
    "#### Consider the 128- dimensional feature vectors (d=128) given in the “gender.csv” file. (2 classes, male and female)\n",
    "- a) Use PCA to reduce the dimension from d to d‟. (Here d=128)\n",
    "- b) Display the eigenvalue based on increasing order, select the d‟ of the corresponding eigenvector which is the appropriate dimension d‟ ( select d‟ S.T first 95% of λ values of the covariance matrix are considered).\n",
    "- c) Use d‟ features to classify the test cases (use any classification algorithm taught in class like Bayes classifier, minimum distance classifier, and so on)\n",
    "#### Dataset Specifications:\n",
    "- Total number of samples = 800\n",
    "- Number of classes = 2 (labeled as “male” and “female”)\n",
    "- Samples from “1 to 400” belongs to class “male”\n",
    "- Samples from “401 to 800” belongs to class “female”\n",
    "- Number of samples per class = 400\n",
    "- Number of dimensions = 128\n",
    "- Use the following information to design classifier:\n",
    "- Number of test cases (first 10 in each class) = 20\n",
    "- Number of training feature vectors ( remaining 390 in each class) = 390\n",
    "- Number of reduced dimensions = d‟ (map 128 to d‟ features vector)"
   ]
  },
  {
   "cell_type": "code",
   "execution_count": 114,
   "metadata": {},
   "outputs": [],
   "source": [
    "# import libs \n",
    "import pandas as pd \n",
    "import numpy as np \n",
    "import matplotlib.pyplot as plt \n",
    "\n",
    "from sklearn.svm import SVC\n",
    "from sklearn.model_selection import train_test_split\n",
    "from sklearn.decomposition import PCA\n",
    "from sklearn.metrics import confusion_matrix, classification_report"
   ]
  },
  {
   "cell_type": "code",
   "execution_count": 115,
   "metadata": {},
   "outputs": [
    {
     "data": {
      "text/html": [
       "<div>\n",
       "<style scoped>\n",
       "    .dataframe tbody tr th:only-of-type {\n",
       "        vertical-align: middle;\n",
       "    }\n",
       "\n",
       "    .dataframe tbody tr th {\n",
       "        vertical-align: top;\n",
       "    }\n",
       "\n",
       "    .dataframe thead th {\n",
       "        text-align: right;\n",
       "    }\n",
       "</style>\n",
       "<table border=\"1\" class=\"dataframe\">\n",
       "  <thead>\n",
       "    <tr style=\"text-align: right;\">\n",
       "      <th></th>\n",
       "      <th>Unnamed: 0</th>\n",
       "      <th>Unnamed: 1</th>\n",
       "      <th>0</th>\n",
       "      <th>1</th>\n",
       "      <th>2</th>\n",
       "      <th>3</th>\n",
       "      <th>4</th>\n",
       "      <th>5</th>\n",
       "      <th>6</th>\n",
       "      <th>7</th>\n",
       "      <th>...</th>\n",
       "      <th>118</th>\n",
       "      <th>119</th>\n",
       "      <th>120</th>\n",
       "      <th>121</th>\n",
       "      <th>122</th>\n",
       "      <th>123</th>\n",
       "      <th>124</th>\n",
       "      <th>125</th>\n",
       "      <th>126</th>\n",
       "      <th>127</th>\n",
       "    </tr>\n",
       "  </thead>\n",
       "  <tbody>\n",
       "    <tr>\n",
       "      <th>0</th>\n",
       "      <td>1</td>\n",
       "      <td>male</td>\n",
       "      <td>-0.066420</td>\n",
       "      <td>0.151611</td>\n",
       "      <td>0.027740</td>\n",
       "      <td>0.052771</td>\n",
       "      <td>-0.066105</td>\n",
       "      <td>-0.041232</td>\n",
       "      <td>-0.002637</td>\n",
       "      <td>-0.158467</td>\n",
       "      <td>...</td>\n",
       "      <td>0.025989</td>\n",
       "      <td>-0.001087</td>\n",
       "      <td>0.027260</td>\n",
       "      <td>-0.046754</td>\n",
       "      <td>-0.118619</td>\n",
       "      <td>-0.163774</td>\n",
       "      <td>-0.000590</td>\n",
       "      <td>-0.076400</td>\n",
       "      <td>0.107497</td>\n",
       "      <td>0.001567</td>\n",
       "    </tr>\n",
       "    <tr>\n",
       "      <th>1</th>\n",
       "      <td>2</td>\n",
       "      <td>male</td>\n",
       "      <td>-0.030614</td>\n",
       "      <td>0.049667</td>\n",
       "      <td>0.008084</td>\n",
       "      <td>-0.050324</td>\n",
       "      <td>0.007649</td>\n",
       "      <td>-0.063818</td>\n",
       "      <td>-0.019530</td>\n",
       "      <td>-0.119905</td>\n",
       "      <td>...</td>\n",
       "      <td>0.044229</td>\n",
       "      <td>-0.023900</td>\n",
       "      <td>-0.028108</td>\n",
       "      <td>0.040618</td>\n",
       "      <td>-0.146579</td>\n",
       "      <td>-0.141244</td>\n",
       "      <td>0.016162</td>\n",
       "      <td>0.017638</td>\n",
       "      <td>0.080610</td>\n",
       "      <td>-0.015930</td>\n",
       "    </tr>\n",
       "    <tr>\n",
       "      <th>2</th>\n",
       "      <td>3</td>\n",
       "      <td>male</td>\n",
       "      <td>-0.096178</td>\n",
       "      <td>0.061127</td>\n",
       "      <td>0.035326</td>\n",
       "      <td>-0.035388</td>\n",
       "      <td>-0.090728</td>\n",
       "      <td>-0.018634</td>\n",
       "      <td>-0.024315</td>\n",
       "      <td>-0.139786</td>\n",
       "      <td>...</td>\n",
       "      <td>0.111141</td>\n",
       "      <td>0.059436</td>\n",
       "      <td>-0.029222</td>\n",
       "      <td>0.042115</td>\n",
       "      <td>-0.222173</td>\n",
       "      <td>-0.116908</td>\n",
       "      <td>0.093428</td>\n",
       "      <td>0.017391</td>\n",
       "      <td>0.057652</td>\n",
       "      <td>0.086116</td>\n",
       "    </tr>\n",
       "    <tr>\n",
       "      <th>3</th>\n",
       "      <td>4</td>\n",
       "      <td>male</td>\n",
       "      <td>-0.103057</td>\n",
       "      <td>0.085044</td>\n",
       "      <td>0.078333</td>\n",
       "      <td>-0.035873</td>\n",
       "      <td>-0.028163</td>\n",
       "      <td>0.004924</td>\n",
       "      <td>0.007829</td>\n",
       "      <td>-0.017016</td>\n",
       "      <td>...</td>\n",
       "      <td>0.100793</td>\n",
       "      <td>-0.002644</td>\n",
       "      <td>-0.023388</td>\n",
       "      <td>0.029497</td>\n",
       "      <td>-0.139830</td>\n",
       "      <td>-0.119243</td>\n",
       "      <td>0.005306</td>\n",
       "      <td>-0.015100</td>\n",
       "      <td>0.161575</td>\n",
       "      <td>0.062462</td>\n",
       "    </tr>\n",
       "    <tr>\n",
       "      <th>4</th>\n",
       "      <td>5</td>\n",
       "      <td>male</td>\n",
       "      <td>-0.125815</td>\n",
       "      <td>0.120046</td>\n",
       "      <td>0.023131</td>\n",
       "      <td>-0.042901</td>\n",
       "      <td>0.038215</td>\n",
       "      <td>-0.049677</td>\n",
       "      <td>-0.054258</td>\n",
       "      <td>-0.130758</td>\n",
       "      <td>...</td>\n",
       "      <td>0.090197</td>\n",
       "      <td>0.067527</td>\n",
       "      <td>0.039926</td>\n",
       "      <td>0.047469</td>\n",
       "      <td>-0.056852</td>\n",
       "      <td>-0.076700</td>\n",
       "      <td>0.004966</td>\n",
       "      <td>0.028171</td>\n",
       "      <td>0.026041</td>\n",
       "      <td>0.084135</td>\n",
       "    </tr>\n",
       "  </tbody>\n",
       "</table>\n",
       "<p>5 rows × 130 columns</p>\n",
       "</div>"
      ],
      "text/plain": [
       "   Unnamed: 0 Unnamed: 1         0         1         2         3         4  \\\n",
       "0           1       male -0.066420  0.151611  0.027740  0.052771 -0.066105   \n",
       "1           2       male -0.030614  0.049667  0.008084 -0.050324  0.007649   \n",
       "2           3       male -0.096178  0.061127  0.035326 -0.035388 -0.090728   \n",
       "3           4       male -0.103057  0.085044  0.078333 -0.035873 -0.028163   \n",
       "4           5       male -0.125815  0.120046  0.023131 -0.042901  0.038215   \n",
       "\n",
       "          5         6         7  ...       118       119       120       121  \\\n",
       "0 -0.041232 -0.002637 -0.158467  ...  0.025989 -0.001087  0.027260 -0.046754   \n",
       "1 -0.063818 -0.019530 -0.119905  ...  0.044229 -0.023900 -0.028108  0.040618   \n",
       "2 -0.018634 -0.024315 -0.139786  ...  0.111141  0.059436 -0.029222  0.042115   \n",
       "3  0.004924  0.007829 -0.017016  ...  0.100793 -0.002644 -0.023388  0.029497   \n",
       "4 -0.049677 -0.054258 -0.130758  ...  0.090197  0.067527  0.039926  0.047469   \n",
       "\n",
       "        122       123       124       125       126       127  \n",
       "0 -0.118619 -0.163774 -0.000590 -0.076400  0.107497  0.001567  \n",
       "1 -0.146579 -0.141244  0.016162  0.017638  0.080610 -0.015930  \n",
       "2 -0.222173 -0.116908  0.093428  0.017391  0.057652  0.086116  \n",
       "3 -0.139830 -0.119243  0.005306 -0.015100  0.161575  0.062462  \n",
       "4 -0.056852 -0.076700  0.004966  0.028171  0.026041  0.084135  \n",
       "\n",
       "[5 rows x 130 columns]"
      ]
     },
     "execution_count": 115,
     "metadata": {},
     "output_type": "execute_result"
    }
   ],
   "source": [
    "# read data \n",
    "gender = pd.read_csv(\"gender.csv\")\n",
    "gender.head()"
   ]
  },
  {
   "cell_type": "code",
   "execution_count": 116,
   "metadata": {},
   "outputs": [],
   "source": [
    "# Perform PCA on this \n",
    "\n",
    "# Let us sepearte the target and only take features \n",
    "df_target = gender.iloc[:,1:2]\n",
    "df_target.columns = [\"label\"]\n",
    "\n",
    "df_f1 = gender.iloc[:,2:]"
   ]
  },
  {
   "cell_type": "code",
   "execution_count": 117,
   "metadata": {},
   "outputs": [],
   "source": [
    "# Let us apply PCA on df_f1 \n",
    "# find mean vectors \n",
    "\n",
    "df_f1_mean = df_f1.mean()\n",
    "\n",
    "# calculate covariance \n"
   ]
  },
  {
   "cell_type": "code",
   "execution_count": 118,
   "metadata": {},
   "outputs": [],
   "source": [
    "# implement function for PCA \n",
    "def PCA(df , k):\n",
    "    X = df.to_numpy()\n",
    "\n",
    "    # standardise \n",
    "    X_std = (X - np.mean(X, axis=0)) / np.std(X, axis=0)\n",
    "\n",
    "    cov_matrix = np.cov(X_std.T)\n",
    "    eigenvalues, eigenvectors = np.linalg.eig(cov_matrix)\n",
    "    eig_pairs = [(np.abs(eigenvalues[i]), eigenvectors[:,i]) for i in range(len(eigenvalues))]\n",
    "    eig_pairs.sort(reverse=True, key=lambda x: x[0])\n",
    "    matrix_w = np.hstack((eig_pairs[i][1].reshape(len(df.columns),1)) for i in range(k))\n",
    "    X_pca = X_std.dot(matrix_w)\n",
    "    \n",
    "    # Convert the transformed data back to a DataFrame\n",
    "    cols = [f\"PC{i+1}\" for i in range(k)]\n",
    "    df_pca = pd.DataFrame(X_pca, columns=cols)\n",
    "    \n",
    "    return df_pca\n",
    "\n"
   ]
  },
  {
   "cell_type": "code",
   "execution_count": 119,
   "metadata": {},
   "outputs": [
    {
     "name": "stderr",
     "output_type": "stream",
     "text": [
      "/tmp/ipykernel_24505/2208913414.py:12: FutureWarning: arrays to stack must be passed as a \"sequence\" type such as list or tuple. Support for non-sequence iterables such as generators is deprecated as of NumPy 1.16 and will raise an error in the future.\n",
      "  matrix_w = np.hstack((eig_pairs[i][1].reshape(len(df.columns),1)) for i in range(k))\n"
     ]
    }
   ],
   "source": [
    "dim = 57\n",
    "df_n  = PCA(df_f1,dim)\n",
    "df_n = pd.concat([df_n,df_target],axis = 1)"
   ]
  },
  {
   "cell_type": "code",
   "execution_count": 120,
   "metadata": {},
   "outputs": [],
   "source": [
    "# seperate the test and the train \n",
    "test_m = df_n.iloc[0:10,:]\n",
    "test_f = df_n.iloc[400:410,:]\n",
    "test = pd.concat([test_m,test_f],axis = 0)\n",
    "test_target = test.iloc[:,-1]\n",
    "test_samples = test.iloc[:,:-1]\n",
    "# now train \n",
    "train_m = df_n.iloc[10:400,:]\n",
    "train_f = df_n.iloc[410:800,:]\n",
    "train = pd.concat([train_m,train_f],axis = 0)"
   ]
  },
  {
   "cell_type": "code",
   "execution_count": 121,
   "metadata": {},
   "outputs": [],
   "source": [
    "# let us obtain the PCA mean \n",
    "mean_PCA = train.groupby(\"label\").mean()\n",
    "mean_PCA_male , mean_PCA_female = mean_PCA.xs(\"male\") , mean_PCA.xs(\"female\")"
   ]
  },
  {
   "cell_type": "code",
   "execution_count": 122,
   "metadata": {},
   "outputs": [],
   "source": [
    "# distance classifier \n",
    "def dist(X,mean):\n",
    "    Y = np.sqrt(np.sum((X - mean)**2))\n",
    "    return Y"
   ]
  },
  {
   "cell_type": "code",
   "execution_count": 123,
   "metadata": {},
   "outputs": [],
   "source": [
    "# running through test data to check for predictions \n",
    "dim = 57\n",
    "predictionsPCA = []\n",
    "predictionsLabels = []\n",
    "\n",
    "for i in range(test_samples.shape[0]):\n",
    "    maleX =  dist(test_samples.iloc[i:i+1].to_numpy(),mean_PCA_male.to_numpy())\n",
    "    femaleX = dist(test_samples.iloc[i:i+1].to_numpy(),mean_PCA_female.to_numpy())\n",
    "    if maleX > femaleX:\n",
    "        label = \"female\"\n",
    "    else:\n",
    "        label = \"male\"\n",
    "    predictionsLabels.append(label)\n"
   ]
  },
  {
   "cell_type": "code",
   "execution_count": 124,
   "metadata": {},
   "outputs": [
    {
     "data": {
      "text/html": [
       "<div>\n",
       "<style scoped>\n",
       "    .dataframe tbody tr th:only-of-type {\n",
       "        vertical-align: middle;\n",
       "    }\n",
       "\n",
       "    .dataframe tbody tr th {\n",
       "        vertical-align: top;\n",
       "    }\n",
       "\n",
       "    .dataframe thead th {\n",
       "        text-align: right;\n",
       "    }\n",
       "</style>\n",
       "<table border=\"1\" class=\"dataframe\">\n",
       "  <thead>\n",
       "    <tr style=\"text-align: right;\">\n",
       "      <th></th>\n",
       "      <th>label</th>\n",
       "    </tr>\n",
       "  </thead>\n",
       "  <tbody>\n",
       "    <tr>\n",
       "      <th>0</th>\n",
       "      <td>male</td>\n",
       "    </tr>\n",
       "    <tr>\n",
       "      <th>1</th>\n",
       "      <td>male</td>\n",
       "    </tr>\n",
       "    <tr>\n",
       "      <th>2</th>\n",
       "      <td>male</td>\n",
       "    </tr>\n",
       "    <tr>\n",
       "      <th>3</th>\n",
       "      <td>male</td>\n",
       "    </tr>\n",
       "    <tr>\n",
       "      <th>4</th>\n",
       "      <td>male</td>\n",
       "    </tr>\n",
       "    <tr>\n",
       "      <th>5</th>\n",
       "      <td>male</td>\n",
       "    </tr>\n",
       "    <tr>\n",
       "      <th>6</th>\n",
       "      <td>male</td>\n",
       "    </tr>\n",
       "    <tr>\n",
       "      <th>7</th>\n",
       "      <td>male</td>\n",
       "    </tr>\n",
       "    <tr>\n",
       "      <th>8</th>\n",
       "      <td>male</td>\n",
       "    </tr>\n",
       "    <tr>\n",
       "      <th>9</th>\n",
       "      <td>male</td>\n",
       "    </tr>\n",
       "    <tr>\n",
       "      <th>400</th>\n",
       "      <td>female</td>\n",
       "    </tr>\n",
       "    <tr>\n",
       "      <th>401</th>\n",
       "      <td>female</td>\n",
       "    </tr>\n",
       "    <tr>\n",
       "      <th>402</th>\n",
       "      <td>female</td>\n",
       "    </tr>\n",
       "    <tr>\n",
       "      <th>403</th>\n",
       "      <td>female</td>\n",
       "    </tr>\n",
       "    <tr>\n",
       "      <th>404</th>\n",
       "      <td>female</td>\n",
       "    </tr>\n",
       "    <tr>\n",
       "      <th>405</th>\n",
       "      <td>female</td>\n",
       "    </tr>\n",
       "    <tr>\n",
       "      <th>406</th>\n",
       "      <td>female</td>\n",
       "    </tr>\n",
       "    <tr>\n",
       "      <th>407</th>\n",
       "      <td>female</td>\n",
       "    </tr>\n",
       "    <tr>\n",
       "      <th>408</th>\n",
       "      <td>female</td>\n",
       "    </tr>\n",
       "    <tr>\n",
       "      <th>409</th>\n",
       "      <td>female</td>\n",
       "    </tr>\n",
       "  </tbody>\n",
       "</table>\n",
       "</div>"
      ],
      "text/plain": [
       "      label\n",
       "0      male\n",
       "1      male\n",
       "2      male\n",
       "3      male\n",
       "4      male\n",
       "5      male\n",
       "6      male\n",
       "7      male\n",
       "8      male\n",
       "9      male\n",
       "400  female\n",
       "401  female\n",
       "402  female\n",
       "403  female\n",
       "404  female\n",
       "405  female\n",
       "406  female\n",
       "407  female\n",
       "408  female\n",
       "409  female"
      ]
     },
     "execution_count": 124,
     "metadata": {},
     "output_type": "execute_result"
    }
   ],
   "source": [
    "test_target = test_target.to_frame()\n",
    "test_target"
   ]
  },
  {
   "cell_type": "code",
   "execution_count": 125,
   "metadata": {},
   "outputs": [
    {
     "name": "stdout",
     "output_type": "stream",
     "text": [
      "Accuracy of Classifier : 90.0\n"
     ]
    }
   ],
   "source": [
    "# checking for accuracy\n",
    "match = 0  \n",
    "for i in range(len(test_target)):\n",
    "    expected = test_target[\"label\"].iloc[i]\n",
    "    prediction = predictionsLabels[i]\n",
    "    if(prediction == expected):\n",
    "        match+=1\n",
    "\n",
    "accuracy = (match/len(test_target))*100\n",
    "\n",
    "print(\"Accuracy of Classifier :\" ,accuracy)"
   ]
  },
  {
   "cell_type": "markdown",
   "metadata": {},
   "source": [
    "### 2. For the same dataset “gender.csv” (2 classes, male and female)\n",
    "\n",
    "- a) Use LDA to reduce the dimension from d to d‟. (Here d=128)\n",
    "- b) Choose the direction „W‟ to reduce the dimension d‟ (select appropriate d‟).\n",
    "- c) Use d‟ features to classify the test cases (use any classification algorithm will do,Bayes classifier, minimum distance classifier, and so on)."
   ]
  },
  {
   "cell_type": "markdown",
   "metadata": {},
   "source": [
    "#### Implementing using LDA "
   ]
  },
  {
   "cell_type": "code",
   "execution_count": 126,
   "metadata": {},
   "outputs": [
    {
     "data": {
      "text/plain": [
       "'label'"
      ]
     },
     "execution_count": 126,
     "metadata": {},
     "output_type": "execute_result"
    }
   ],
   "source": [
    "df_f2 = pd.concat([df_f1,df_target],axis = 1)\n",
    "heading = df_f2.columns[-1]\n",
    "heading"
   ]
  },
  {
   "cell_type": "code",
   "execution_count": 127,
   "metadata": {},
   "outputs": [],
   "source": [
    "target = pd.DataFrame(df_target.to_numpy())\n",
    "target.columns = [\"label\"]"
   ]
  },
  {
   "cell_type": "code",
   "execution_count": 138,
   "metadata": {},
   "outputs": [],
   "source": [
    "def LDA(data, target):\n",
    "    mean = []\n",
    "    for i in range(len(np.unique(target))):\n",
    "        name = np.unique(target)[i]\n",
    "        mean.append(np.mean(data[target == name], axis=0))\n",
    "    mean = np.array(mean)\n",
    "\n",
    "\n",
    "    # compute scatter matrices\n",
    "\n",
    "    mean_all = np.mean(data, axis=0)\n",
    "\n",
    "\n",
    "    Sw = np.zeros((data.shape[1], data.shape[1]))\n",
    "    for i in range(len(np.unique(target))):\n",
    "        # get name of class\n",
    "        name = np.unique(target)[i]\n",
    "        Sw += np.dot((data[target == name] - mean[i]).T, (data[target == name] - mean[i]))\n",
    "    \n",
    "    # calculate between class scatter matrix\n",
    "    Sb = np.zeros((data.shape[1], data.shape[1]))\n",
    "    for i in range(len(np.unique(target))):\n",
    "        # get name of class\n",
    "        name = np.unique(target)[i]\n",
    "        Sb += np.dot((mean[i] - mean_all).values.reshape(data.shape[1], 1), (mean[i] - mean_all).values.reshape(1, data.shape[1]))\n",
    "\n",
    "    # calculate e values and e vectors\n",
    "    eValues, eVectors = np.linalg.eig(np.dot(np.linalg.inv(Sw), Sb))\n",
    "    # sort e values and e vectors\n",
    "    idx = eValues.argsort()[::-1]\n",
    "    eValues = eValues[idx]\n",
    "    eVectors = eVectors[:, idx]\n",
    "    \n",
    "    # reduce dimensions to 1\n",
    "    d = 1\n",
    "    # print d\n",
    "    print(\"d: \", d)\n",
    "    # reduce dimensions\n",
    "    eVectors = eVectors[:, :d]\n",
    "    data = np.dot(data, eVectors)\n",
    "    data = pd.DataFrame(data)\n",
    "    return data"
   ]
  },
  {
   "cell_type": "code",
   "execution_count": 139,
   "metadata": {},
   "outputs": [
    {
     "name": "stdout",
     "output_type": "stream",
     "text": [
      "d:  1\n"
     ]
    }
   ],
   "source": [
    "LDAdimRdn = LDA(df_f2.iloc[:,:-1],df_f2.iloc[:,-1])"
   ]
  },
  {
   "cell_type": "code",
   "execution_count": 140,
   "metadata": {},
   "outputs": [],
   "source": [
    "LDAdimRdn = pd.concat([LDAdimRdn,target],axis = 1)\n",
    "test_m_LDA = LDAdimRdn.iloc[0:10,:]\n",
    "test_f_LDA = LDAdimRdn.iloc[400:410,:]\n",
    "test_LDA = pd.concat([test_m_LDA,test_f_LDA],axis = 0)\n",
    "test_target_LDA = test_LDA.iloc[:,-1]\n",
    "test_samples_LDA = pd.DataFrame(np.real(test_LDA.iloc[:,:-1]))\n",
    "# now train \n",
    "train_m_LDA = LDAdimRdn.iloc[10:400,:]\n",
    "train_f_LDA = LDAdimRdn.iloc[410:800,:]\n",
    "train_LDA = pd.concat([train_m_LDA,train_f_LDA],axis = 0)"
   ]
  },
  {
   "cell_type": "code",
   "execution_count": 141,
   "metadata": {},
   "outputs": [
    {
     "data": {
      "text/html": [
       "<div>\n",
       "<style scoped>\n",
       "    .dataframe tbody tr th:only-of-type {\n",
       "        vertical-align: middle;\n",
       "    }\n",
       "\n",
       "    .dataframe tbody tr th {\n",
       "        vertical-align: top;\n",
       "    }\n",
       "\n",
       "    .dataframe thead th {\n",
       "        text-align: right;\n",
       "    }\n",
       "</style>\n",
       "<table border=\"1\" class=\"dataframe\">\n",
       "  <thead>\n",
       "    <tr style=\"text-align: right;\">\n",
       "      <th></th>\n",
       "      <th>0</th>\n",
       "      <th>label</th>\n",
       "    </tr>\n",
       "  </thead>\n",
       "  <tbody>\n",
       "    <tr>\n",
       "      <th>10</th>\n",
       "      <td>1.964650e-06</td>\n",
       "      <td>male</td>\n",
       "    </tr>\n",
       "    <tr>\n",
       "      <th>11</th>\n",
       "      <td>2.644062e-06</td>\n",
       "      <td>male</td>\n",
       "    </tr>\n",
       "    <tr>\n",
       "      <th>12</th>\n",
       "      <td>2.950064e-06</td>\n",
       "      <td>male</td>\n",
       "    </tr>\n",
       "    <tr>\n",
       "      <th>13</th>\n",
       "      <td>2.507864e-06</td>\n",
       "      <td>male</td>\n",
       "    </tr>\n",
       "    <tr>\n",
       "      <th>14</th>\n",
       "      <td>2.982156e-06</td>\n",
       "      <td>male</td>\n",
       "    </tr>\n",
       "    <tr>\n",
       "      <th>...</th>\n",
       "      <td>...</td>\n",
       "      <td>...</td>\n",
       "    </tr>\n",
       "    <tr>\n",
       "      <th>795</th>\n",
       "      <td>1.637797e-06</td>\n",
       "      <td>female</td>\n",
       "    </tr>\n",
       "    <tr>\n",
       "      <th>796</th>\n",
       "      <td>1.604842e-06</td>\n",
       "      <td>female</td>\n",
       "    </tr>\n",
       "    <tr>\n",
       "      <th>797</th>\n",
       "      <td>1.350251e-06</td>\n",
       "      <td>female</td>\n",
       "    </tr>\n",
       "    <tr>\n",
       "      <th>798</th>\n",
       "      <td>9.157662e-07</td>\n",
       "      <td>female</td>\n",
       "    </tr>\n",
       "    <tr>\n",
       "      <th>799</th>\n",
       "      <td>1.312559e-06</td>\n",
       "      <td>female</td>\n",
       "    </tr>\n",
       "  </tbody>\n",
       "</table>\n",
       "<p>780 rows × 2 columns</p>\n",
       "</div>"
      ],
      "text/plain": [
       "                0   label\n",
       "10   1.964650e-06    male\n",
       "11   2.644062e-06    male\n",
       "12   2.950064e-06    male\n",
       "13   2.507864e-06    male\n",
       "14   2.982156e-06    male\n",
       "..            ...     ...\n",
       "795  1.637797e-06  female\n",
       "796  1.604842e-06  female\n",
       "797  1.350251e-06  female\n",
       "798  9.157662e-07  female\n",
       "799  1.312559e-06  female\n",
       "\n",
       "[780 rows x 2 columns]"
      ]
     },
     "execution_count": 141,
     "metadata": {},
     "output_type": "execute_result"
    }
   ],
   "source": [
    "train_LDA[0] = np.real(train_LDA[0])\n",
    "train_LDA"
   ]
  },
  {
   "cell_type": "code",
   "execution_count": 142,
   "metadata": {},
   "outputs": [],
   "source": [
    "mean_LDA = train_LDA.groupby(\"label\").mean()\n",
    "mean_LDA_male , mean_LDA_female = mean_LDA.xs(\"male\") , mean_LDA.xs(\"female\")\n",
    "test_target_LDAn = pd.DataFrame(test_target_LDA)"
   ]
  },
  {
   "cell_type": "code",
   "execution_count": 143,
   "metadata": {},
   "outputs": [],
   "source": [
    "predictionsLDA = []\n",
    "predictionsLabelsLDA = []\n",
    "\n",
    "for i in range(test_samples_LDA.shape[0]):\n",
    "    maleX =  dist(test_samples_LDA.iloc[i:i+1].to_numpy(),mean_LDA_male.to_numpy())\n",
    "    femaleX = dist(test_samples_LDA.iloc[i:i+1].to_numpy(),mean_LDA_female.to_numpy())\n",
    "    if maleX > femaleX:\n",
    "        label = \"female\"\n",
    "    else:\n",
    "        label = \"male\"\n",
    "    predictionsLabelsLDA.append(label)"
   ]
  },
  {
   "cell_type": "code",
   "execution_count": 144,
   "metadata": {},
   "outputs": [],
   "source": [
    "testingTarget = pd.DataFrame(test_target_LDAn.to_numpy())\n",
    "testingTarget.columns = [\"label\"]"
   ]
  },
  {
   "cell_type": "code",
   "execution_count": 145,
   "metadata": {},
   "outputs": [
    {
     "name": "stdout",
     "output_type": "stream",
     "text": [
      "17\n",
      "Accuracy of Classifier : 85.0\n"
     ]
    }
   ],
   "source": [
    "# checking for accuracy\n",
    "match = 0  \n",
    "for i in range(len(testingTarget)):\n",
    "    expected = testingTarget[\"label\"].iloc[i]\n",
    "    prediction = predictionsLabelsLDA[i]\n",
    "    if(prediction == expected):\n",
    "        match+=1\n",
    "\n",
    "accuracy = (match/len(testingTarget))*100\n",
    "print(match)\n",
    "print(\"Accuracy of Classifier :\" ,accuracy)"
   ]
  },
  {
   "cell_type": "markdown",
   "metadata": {},
   "source": [
    "### 3. Give the comparative study for the above results w.r.t to classification accuracy in terms of the confusion matrix."
   ]
  },
  {
   "cell_type": "code",
   "execution_count": 146,
   "metadata": {},
   "outputs": [
    {
     "name": "stdout",
     "output_type": "stream",
     "text": [
      "Confusion Matrix for PCA\n",
      "TN :  9\n",
      "FN :  1\n",
      "FP :  1\n",
      "TP :  9\n"
     ]
    }
   ],
   "source": [
    "# Finding the confusion matrix \n",
    "from sklearn.metrics import confusion_matrix\n",
    "\n",
    "# create confusion matrix for PCA \n",
    "tnPCA, fpPCA, fnPCA, tpPCA = confusion_matrix(test_target[\"label\"], predictionsLabels).ravel()\n",
    "\n",
    "print(\"Confusion Matrix for PCA\")\n",
    "print(\"TN : \",tnPCA)\n",
    "print(\"FN : \",fnPCA)\n",
    "print(\"FP : \",fpPCA)\n",
    "print(\"TP : \",tpPCA)"
   ]
  },
  {
   "cell_type": "code",
   "execution_count": 147,
   "metadata": {},
   "outputs": [
    {
     "name": "stdout",
     "output_type": "stream",
     "text": [
      "Confusion Matrix for LDA\n",
      "TN :  9\n",
      "FN :  2\n",
      "FP :  1\n",
      "TP :  8\n"
     ]
    }
   ],
   "source": [
    "# create confusion matrix for LDA \n",
    "tnLDA, fpLDA, fnLDA, tpLDA = confusion_matrix(test_target[\"label\"], predictionsLabelsLDA).ravel()\n",
    "\n",
    "print(\"Confusion Matrix for LDA\")\n",
    "print(\"TN : \",tnLDA)\n",
    "print(\"FN : \",fnLDA)\n",
    "print(\"FP : \",fpLDA)\n",
    "print(\"TP : \",tpLDA)"
   ]
  }
 ],
 "metadata": {
  "kernelspec": {
   "display_name": "Python 3.8.10 64-bit",
   "language": "python",
   "name": "python3"
  },
  "language_info": {
   "codemirror_mode": {
    "name": "ipython",
    "version": 3
   },
   "file_extension": ".py",
   "mimetype": "text/x-python",
   "name": "python",
   "nbconvert_exporter": "python",
   "pygments_lexer": "ipython3",
   "version": "3.8.10"
  },
  "orig_nbformat": 4,
  "vscode": {
   "interpreter": {
    "hash": "916dbcbb3f70747c44a77c7bcd40155683ae19c65e1c03b4aa3499c5328201f1"
   }
  }
 },
 "nbformat": 4,
 "nbformat_minor": 2
}
