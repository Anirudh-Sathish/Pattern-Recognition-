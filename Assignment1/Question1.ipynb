{
 "cells": [
  {
   "cell_type": "markdown",
   "metadata": {},
   "source": [
    "Author : Anirudh Sathish \n",
    "Roll No : CS20B1125 "
   ]
  },
  {
   "cell_type": "markdown",
   "metadata": {},
   "source": [
    "Task : \n",
    "Calculate the distance between the two normalized histograms H1 and H2 using each of the following methods:\n",
    "(a) KL Distance\n",
    "(b) Bhattacharyya Distance\n",
    "H1 = [ 0.24, 0.2, 0.16, 0.12, 0.08, 0.04, 0.12, 0.04]\n",
    "H2 = [ 0.22, 0.23, 0.16, 0.13, 0.11, 0.08, 0.05, 0.02]"
   ]
  },
  {
   "cell_type": "code",
   "execution_count": 1,
   "metadata": {},
   "outputs": [],
   "source": [
    "import numpy as np\n",
    "np.set_printoptions(precision=2)\n",
    "import math "
   ]
  },
  {
   "cell_type": "markdown",
   "metadata": {},
   "source": [
    "Representing the histograms "
   ]
  },
  {
   "cell_type": "code",
   "execution_count": 2,
   "metadata": {},
   "outputs": [],
   "source": [
    "h1 = np.array([ 0.24, 0.2, 0.16, 0.12, 0.08, 0.04, 0.12, 0.04])\n",
    "h2 = np.array([ 0.22, 0.23, 0.16, 0.13, 0.11, 0.08, 0.05, 0.02])"
   ]
  },
  {
   "cell_type": "markdown",
   "metadata": {},
   "source": [
    "Finding the KL distance "
   ]
  },
  {
   "cell_type": "code",
   "execution_count": 3,
   "metadata": {},
   "outputs": [],
   "source": [
    "class Metrics():\n",
    "    def __init__(self,trueDistribtion,targetDistribution):\n",
    "        self.p = trueDistribtion\n",
    "        self.q = targetDistribution\n",
    "    def KL_Distance(self):\n",
    "        dist = (self.p*np.log(self.p/self.q)).sum()\n",
    "        return dist \n",
    "    def BhattacharyaDistance(self):\n",
    "        dist = (-1*(np.log((np.sqrt(self.p*self.q)).sum())))\n",
    "        return dist"
   ]
  },
  {
   "cell_type": "markdown",
   "metadata": {},
   "source": [
    "Distance between h1 and h2 "
   ]
  },
  {
   "cell_type": "code",
   "execution_count": 4,
   "metadata": {},
   "outputs": [
    {
     "name": "stdout",
     "output_type": "stream",
     "text": [
      "KL distance between h1 , h2 is  0.06290516707464022\n",
      "Bhattachary Distance between h1 , h2 is  0.014830056106628986\n"
     ]
    }
   ],
   "source": [
    "M = Metrics(h1,h2)\n",
    "KL_distance = M.KL_Distance()\n",
    "Bhattacharya_Distance = M.BhattacharyaDistance()\n",
    "print(\"KL distance between h1 , h2 is \", KL_distance)\n",
    "print(\"Bhattachary Distance between h1 , h2 is \", Bhattacharya_Distance)"
   ]
  },
  {
   "cell_type": "markdown",
   "metadata": {},
   "source": [
    "Distance between h2 and h1 "
   ]
  },
  {
   "cell_type": "code",
   "execution_count": 5,
   "metadata": {},
   "outputs": [
    {
     "name": "stdout",
     "output_type": "stream",
     "text": [
      "KL distance between h2 , h1 is  0.056253600195068226\n",
      "Bhattachary Distance between h2 , h1 is  0.014830056106628986\n"
     ]
    }
   ],
   "source": [
    "M1 = Metrics(h2,h1)\n",
    "KL_distance = M1.KL_Distance()\n",
    "Bhattacharya_Distance = M1.BhattacharyaDistance()\n",
    "print(\"KL distance between h2 , h1 is \", KL_distance)\n",
    "print(\"Bhattachary Distance between h2 , h1 is \", Bhattacharya_Distance)"
   ]
  }
 ],
 "metadata": {
  "kernelspec": {
   "display_name": "Python 3.8.10 64-bit",
   "language": "python",
   "name": "python3"
  },
  "language_info": {
   "codemirror_mode": {
    "name": "ipython",
    "version": 3
   },
   "file_extension": ".py",
   "mimetype": "text/x-python",
   "name": "python",
   "nbconvert_exporter": "python",
   "pygments_lexer": "ipython3",
   "version": "3.8.10"
  },
  "orig_nbformat": 4,
  "vscode": {
   "interpreter": {
    "hash": "916dbcbb3f70747c44a77c7bcd40155683ae19c65e1c03b4aa3499c5328201f1"
   }
  }
 },
 "nbformat": 4,
 "nbformat_minor": 2
}
