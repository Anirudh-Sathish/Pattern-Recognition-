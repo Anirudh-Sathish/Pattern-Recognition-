{
 "cells": [
  {
   "cell_type": "markdown",
   "metadata": {},
   "source": [
    "Author : Anirudh Sathish \n",
    "Roll No : CS20B1125 \n",
    "Question3 "
   ]
  },
  {
   "cell_type": "markdown",
   "metadata": {},
   "source": [
    "Task : Compare two text files doc1.txt and doc2.txt using cosine distance."
   ]
  },
  {
   "cell_type": "code",
   "execution_count": 1,
   "metadata": {},
   "outputs": [],
   "source": [
    "import numpy as np\n",
    "from copy import deepcopy\n",
    "np.set_printoptions(precision=3)"
   ]
  },
  {
   "cell_type": "markdown",
   "metadata": {},
   "source": [
    "Open doc1.txt and doc2.txt"
   ]
  },
  {
   "cell_type": "code",
   "execution_count": 2,
   "metadata": {},
   "outputs": [],
   "source": [
    "doc1 = open(\"doc1.txt\",\"r\")\n",
    "doc2 = open(\"doc2.txt\",\"r\")"
   ]
  },
  {
   "cell_type": "markdown",
   "metadata": {},
   "source": [
    "Writing a function to create set of unique words in a document"
   ]
  },
  {
   "cell_type": "code",
   "execution_count": 3,
   "metadata": {},
   "outputs": [],
   "source": [
    "def uniqueWordSet(doc):\n",
    "    docStr = \" \"\n",
    "    for sentences in doc:\n",
    "        docStr += sentences\n",
    "    wordBag = docStr.split(\" \")\n",
    "    wordvec = []\n",
    "    for word in wordBag:\n",
    "        if \".\" in word:\n",
    "            word = word.split(\".\")[0]\n",
    "        if \",\" in word:\n",
    "            word = word.split(\",\")[0]\n",
    "        if \"\\n\" in word:\n",
    "            word = word.split(\"\\n\")[0]\n",
    "        if \"\"\" \" \"\"\" in word:\n",
    "            word = word.split(\"\"\" \" \"\"\")[1]\n",
    "        if \";\" in word:\n",
    "            word = word.split(\";\")[0]\n",
    "        if \":\" in word:\n",
    "            word = word.split(\":\")[0]\n",
    "        if len(word)>0:\n",
    "            wordvec.append(word)\n",
    "    wordSet = set(wordvec)\n",
    "    return wordSet , wordvec \n",
    "    \n",
    "    "
   ]
  },
  {
   "cell_type": "markdown",
   "metadata": {},
   "source": [
    "Obtaining unique Word Set for the doc1 and doc2 "
   ]
  },
  {
   "cell_type": "code",
   "execution_count": 4,
   "metadata": {},
   "outputs": [],
   "source": [
    "doc1WordSet , doc1WordList= uniqueWordSet(doc1)\n",
    "doc2WordSet , doc2WordList = uniqueWordSet(doc2)\n",
    "WordSet = doc1WordSet.union(doc2WordSet)"
   ]
  },
  {
   "cell_type": "markdown",
   "metadata": {},
   "source": [
    "Create a word Vector class "
   ]
  },
  {
   "cell_type": "code",
   "execution_count": 5,
   "metadata": {},
   "outputs": [],
   "source": [
    "class wordVector():\n",
    "    def __init__(self,wordSet):\n",
    "        self.wordSet = wordSet \n",
    "    def wordDict(self):\n",
    "        # convert the wordSet into a dict\n",
    "        self.wordDictionary = {}\n",
    "        for word in self.wordSet:\n",
    "            self.wordDictionary[word] = 0\n",
    "    def getVector(self,documentWordList):\n",
    "        docVector = deepcopy(self.wordDictionary)\n",
    "        \n",
    "        # maintain a frequency count \n",
    "        for word in documentWordList:\n",
    "            docVector[word] +=1\n",
    "        \n",
    "        # convert the frequency count to a numpy array\n",
    "        vector = np.array(list(docVector.values()))\n",
    "        return vector \n"
   ]
  },
  {
   "cell_type": "code",
   "execution_count": 6,
   "metadata": {},
   "outputs": [],
   "source": [
    "VectorCreator = wordVector(WordSet)\n",
    "VectorCreator.wordDict()"
   ]
  },
  {
   "cell_type": "markdown",
   "metadata": {},
   "source": [
    "Obtaining the vectors for doc1"
   ]
  },
  {
   "cell_type": "code",
   "execution_count": 7,
   "metadata": {},
   "outputs": [
    {
     "name": "stdout",
     "output_type": "stream",
     "text": [
      "[1 1 0 0 1 1 0 1 1 0 0 0 0 1 1 0 1 1 1 1 1 2 1 1 1 1 1 0 1 2 0 1 1 2 1 0 1\n",
      " 1 1 0 0]\n"
     ]
    }
   ],
   "source": [
    "doc1Vec = VectorCreator.getVector(doc1WordList)\n",
    "print(doc1Vec)"
   ]
  },
  {
   "cell_type": "markdown",
   "metadata": {},
   "source": [
    "Obtaining the vectors for doc2"
   ]
  },
  {
   "cell_type": "code",
   "execution_count": 8,
   "metadata": {},
   "outputs": [
    {
     "name": "stdout",
     "output_type": "stream",
     "text": [
      "[0 0 2 1 0 0 1 1 0 1 1 1 1 0 0 1 0 0 0 0 1 2 1 1 0 0 0 1 1 0 1 0 0 0 0 1 0\n",
      " 0 0 1 1]\n"
     ]
    }
   ],
   "source": [
    "doc2Vec = VectorCreator.getVector(doc2WordList)\n",
    "print(doc2Vec)"
   ]
  },
  {
   "cell_type": "markdown",
   "metadata": {},
   "source": [
    "Now calculating the cosine distance between them "
   ]
  },
  {
   "cell_type": "code",
   "execution_count": 9,
   "metadata": {},
   "outputs": [],
   "source": [
    "mod_doc1 = np.sqrt((doc1Vec*doc1Vec).sum())\n",
    "mod_doc2 = np.sqrt((doc2Vec*doc2Vec).sum())\n",
    "\n",
    "# Defining cos_theta\n",
    "cos_theta = ((doc1Vec*doc2Vec).sum())/(mod_doc1*mod_doc2)"
   ]
  },
  {
   "cell_type": "markdown",
   "metadata": {},
   "source": [
    "Displaying the value "
   ]
  },
  {
   "cell_type": "code",
   "execution_count": 10,
   "metadata": {},
   "outputs": [
    {
     "name": "stdout",
     "output_type": "stream",
     "text": [
      "0.296\n"
     ]
    }
   ],
   "source": [
    "cos_theta = round(cos_theta,3)\n",
    "print(cos_theta)"
   ]
  },
  {
   "cell_type": "markdown",
   "metadata": {},
   "source": [
    "Now the cosine distance is 1 - cos_theta , so let us obtain it "
   ]
  },
  {
   "cell_type": "code",
   "execution_count": 11,
   "metadata": {},
   "outputs": [
    {
     "name": "stdout",
     "output_type": "stream",
     "text": [
      "Hence the cosine distance , between both the documents is  0.704\n"
     ]
    }
   ],
   "source": [
    "cosine_distance = round(1 - cos_theta,3)\n",
    "print(\"Hence the cosine distance , between both the documents is \",cosine_distance)"
   ]
  },
  {
   "cell_type": "code",
   "execution_count": null,
   "metadata": {},
   "outputs": [],
   "source": []
  }
 ],
 "metadata": {
  "kernelspec": {
   "display_name": "Python 3.8.10 64-bit",
   "language": "python",
   "name": "python3"
  },
  "language_info": {
   "codemirror_mode": {
    "name": "ipython",
    "version": 3
   },
   "file_extension": ".py",
   "mimetype": "text/x-python",
   "name": "python",
   "nbconvert_exporter": "python",
   "pygments_lexer": "ipython3",
   "version": "3.8.10"
  },
  "orig_nbformat": 4,
  "vscode": {
   "interpreter": {
    "hash": "916dbcbb3f70747c44a77c7bcd40155683ae19c65e1c03b4aa3499c5328201f1"
   }
  }
 },
 "nbformat": 4,
 "nbformat_minor": 2
}
